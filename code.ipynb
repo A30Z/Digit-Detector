{
  "nbformat": 4,
  "nbformat_minor": 0,
  "metadata": {
    "colab": {
      "provenance": [],
      "gpuType": "T4"
    },
    "kernelspec": {
      "name": "python3",
      "display_name": "Python 3"
    },
    "language_info": {
      "name": "python"
    }
  },
  "cells": [
    {
      "cell_type": "code",
      "execution_count": 1,
      "metadata": {
        "id": "6MEdYlfamA2x",
        "colab": {
          "base_uri": "https://localhost:8080/"
        },
        "outputId": "36f75548-1a9b-418b-a744-e058b411a28a"
      },
      "outputs": [
        {
          "output_type": "stream",
          "name": "stdout",
          "text": [
            "Drive already mounted at /content/drive; to attempt to forcibly remount, call drive.mount(\"/content/drive\", force_remount=True).\n"
          ]
        }
      ],
      "source": [
        "from google.colab import drive\n",
        "drive.mount('/content/drive')"
      ]
    },
    {
      "cell_type": "code",
      "source": [
        "%cd '/content/drive/MyDrive/phase4 public'\n",
        "!ls"
      ],
      "metadata": {
        "id": "MnxRyXLomHa9",
        "colab": {
          "base_uri": "https://localhost:8080/"
        },
        "outputId": "5efd2d5b-7253-4e44-bf8a-807bc72c0b89"
      },
      "execution_count": 2,
      "outputs": [
        {
          "output_type": "stream",
          "name": "stdout",
          "text": [
            "/content/drive/.shortcut-targets-by-id/1olR9djsPqRY8dxn01k2qeMnqfOfqWRQE/phase4 public\n",
            "'CI - Spring_2023 - phase4.pdf'   exploring_data.py   utils.py\n",
            " data\t\t\t\t  __pycache__\n",
            " dataloader_demo.ipynb\t\t  triplet_loss.py\n"
          ]
        }
      ]
    },
    {
      "cell_type": "code",
      "source": [
        "import torch\n",
        "import torchvision\n",
        "import torch.nn as nn\n",
        "import torch.optim as optim\n",
        "from torch.utils.data import DataLoader\n",
        "from torch.functional import F\n",
        "from tqdm import trange\n",
        "import numpy as np\n",
        "from tqdm import trange"
      ],
      "metadata": {
        "id": "PTuHeUxIpgqc"
      },
      "execution_count": 3,
      "outputs": []
    },
    {
      "cell_type": "markdown",
      "source": [
        "model definition"
      ],
      "metadata": {
        "id": "60TDv47NVRrr"
      }
    },
    {
      "cell_type": "code",
      "source": [
        "class demo_model(nn.Module):\n",
        "    def __init__(self) -> None:\n",
        "        super().__init__()\n",
        "\n",
        "        # define layers\n",
        "        # parameters are defined here\n",
        "        self.conv1 = nn.Conv2d(3, 6, 5, padding=2)\n",
        "        self.conv2 = nn.Conv2d(6, 16, 5)\n",
        "        self.fc1   = nn.Linear(16*6*6, 256)\n",
        "        self.fc2   = nn.Linear(512, 240)\n",
        "        self.fc3   = nn.Linear(240, 160)\n",
        "        self.fc4   = nn.Linear(160, 10)\n",
        "    # Forward Pass\n",
        "    def forward(self, images, features):\n",
        "        # [N, 1, 28, 28]\n",
        "        # You can use any of the Tensor operations in the forward function.\n",
        "        # 3 * 32 * 32\n",
        "        x = F.max_pool2d(F.relu(self.conv1(images)), (2, 2))\n",
        "        # 6 * 16 * 16\n",
        "        x = F.max_pool2d(F.relu(self.conv2(x)), (2, 2))\n",
        "        # 16 * 6 * 6\n",
        "        x = x.view(-1, self.num_flat_features(x))\n",
        "        # f1 without rlue\n",
        "        x = self.fc1(x)\n",
        "        x =  torch.cat((x, features), dim=1)\n",
        "        x = F.relu(self.fc2(x))\n",
        "        x = F.relu(self.fc3(x))\n",
        "        x = self.fc4(x)\n",
        "        return x\n",
        "    def num_flat_features(self, x):\n",
        "        '''\n",
        "        Get the number of features in a batch of tensors `x`.\n",
        "        '''\n",
        "        size = x.size()[1:]\n",
        "        return np.prod(size)"
      ],
      "metadata": {
        "id": "ZleJPGquAE1R"
      },
      "execution_count": 59,
      "outputs": []
    },
    {
      "cell_type": "code",
      "source": [
        "def train_one_epoch(model: nn.Module, optim: torch.optim.Optimizer, dataloader: DataLoader, loss_fn):\n",
        "\n",
        "    # utils\n",
        "    num_samples = len(dataloader.dataset)\n",
        "    num_batches = len(dataloader)\n",
        "    running_corrects = 0\n",
        "    running_loss = 0.0\n",
        "    model.train() #\n",
        "    for batch_indx, (images, features, domain_labels, digit_labels) in enumerate(dataloader): # Get a batch of Data\n",
        "\n",
        "        outputs = model(images, features) # Forward Pass, [N, 10]\n",
        "        loss = loss_fn(outputs, digit_labels) # Compute Loss\n",
        "\n",
        "        loss.backward() # Compute Gradients\n",
        "        optim.step() # Update parameters\n",
        "        optim.zero_grad() # zero the parameter's gradients\n",
        "\n",
        "        _, preds = torch.max(outputs, dim=1) # Explain, [N]\n",
        "        running_corrects += torch.sum(preds == digit_labels)\n",
        "        running_loss += loss.item()\n",
        "\n",
        "    epoch_acc = (running_corrects / num_samples) * 100\n",
        "    epoch_loss = (running_loss / num_batches)\n",
        "\n",
        "    return epoch_acc, epoch_loss"
      ],
      "metadata": {
        "id": "KOqeJrpQFcPC"
      },
      "execution_count": 60,
      "outputs": []
    },
    {
      "cell_type": "code",
      "source": [
        "def test_model(model: nn.Module, dataloader: DataLoader, loss_fn):\n",
        "    num_samples = len(dataloader.dataset)\n",
        "    num_batches = len(dataloader)\n",
        "    running_corrects = 0\n",
        "    running_loss = 0.0\n",
        "    model.eval()\n",
        "    with torch.no_grad():\n",
        "        for batch_indx, (images, features, domain_labels, digit_labels) in enumerate(dataloader):\n",
        "            outputs = model(images, features)\n",
        "            loss = loss_fn(outputs, digit_labels)\n",
        "            _, preds = torch.max(outputs, 1)\n",
        "            running_corrects += torch.sum(preds == digit_labels)\n",
        "            running_loss += loss.item()\n",
        "    test_acc = (running_corrects / num_samples) * 100\n",
        "    test_loss = (running_loss / num_batches)\n",
        "    return test_acc, test_loss"
      ],
      "metadata": {
        "id": "J6_M0KXGFi5n"
      },
      "execution_count": 61,
      "outputs": []
    },
    {
      "cell_type": "code",
      "source": [
        "from utils import custom_plot_training_stats\n",
        "from utils import get_data_loaders\n",
        "\n",
        "def loaders_demo(lrate, bs):\n",
        "    num_epochs = 10\n",
        "    learning_rate = lrate\n",
        "    full_dataloaders, _ = get_data_loaders(\n",
        "        filenames={\n",
        "            'train': './data/12000_train_mnistmnistmsvhnsynusps.npz',\n",
        "            'test': './data/12000_test_mnistmnistmsvhnsynusps.npz',\n",
        "        },\n",
        "        batch_size= bs\n",
        "\n",
        "    )\n",
        "    model = demo_model()\n",
        "    optimizer = torch.optim.SGD(model.parameters(), lr=learning_rate)\n",
        "    cross_entropy = nn.CrossEntropyLoss()\n",
        "    acc_history = {'train': [], 'test': []}\n",
        "    loss_history = {'train': [], 'test': []}\n",
        "\n",
        "    for epoch in trange(num_epochs):\n",
        "        train_acc, train_loss = train_one_epoch(model=model, optim=optimizer, dataloader=full_dataloaders['train'] , loss_fn=cross_entropy)\n",
        "        test_acc, test_loss = test_model(model=model, dataloader=full_dataloaders['test'], loss_fn=cross_entropy)\n",
        "\n",
        "        acc_history['train'].append(train_acc)\n",
        "        acc_history['test'].append(test_acc)\n",
        "        loss_history['train'].append(train_loss)\n",
        "        loss_history['test'].append(test_loss)\n",
        "    #custom_plot_training_stats(acc_history, loss_history, ['train', 'test'], title='demp', dir='demo_plots')\n",
        "    print(\"train acc: \" )\n",
        "    print( str(acc_history['train'][9]));\n",
        "    print(\"test acc: \")\n",
        "    print( str(acc_history['test'][9]));"
      ],
      "metadata": {
        "id": "AtlyRiWcCgVK"
      },
      "execution_count": null,
      "outputs": []
    },
    {
      "cell_type": "markdown",
      "source": [
        "find best combination for learning rate and batch size"
      ],
      "metadata": {
        "id": "6rrCdntEVKnr"
      }
    },
    {
      "cell_type": "code",
      "source": [
        "for i in [0.02, 0.025, 0.03, 0.035]:\n",
        "  for j in [16, 32, 64]:\n",
        "    print(\"*******************************************************************************************\")\n",
        "    print(\"Learning Rate: \" + str(i) + \"\\tBatch Size: \" + str(j))\n",
        "    loaders_demo(i, j)"
      ],
      "metadata": {
        "colab": {
          "base_uri": "https://localhost:8080/"
        },
        "id": "yKWk2kEdEH7a",
        "outputId": "8c05f935-e875-4140-eb7a-0326142a9356"
      },
      "execution_count": null,
      "outputs": [
        {
          "output_type": "stream",
          "name": "stdout",
          "text": [
            "*******************************************************************************************\n",
            "Learning Rate: 0.02\tBatch Size: 16\n",
            "datafiles to read:  {'train': './data/12000_train_mnistmnistmsvhnsynusps.npz', 'test': './data/12000_test_mnistmnistmsvhnsynusps.npz'}\n",
            "reading ./data/12000_train_mnistmnistmsvhnsynusps.npz, number of samples: 60000\n",
            "reading ./data/12000_test_mnistmnistmsvhnsynusps.npz, number of samples: 21600\n",
            "reading ./data/12000_test_mnistmnistmsvhnsynusps.npz, number of samples: 21600\n"
          ]
        },
        {
          "output_type": "stream",
          "name": "stderr",
          "text": [
            "100%|██████████| 10/10 [05:16<00:00, 31.63s/it]\n"
          ]
        },
        {
          "output_type": "stream",
          "name": "stdout",
          "text": [
            "train acc: \n",
            "tensor(96.2083)\n",
            "test acc: \n",
            "tensor(92.1296)\n",
            "*******************************************************************************************\n",
            "Learning Rate: 0.02\tBatch Size: 32\n",
            "datafiles to read:  {'train': './data/12000_train_mnistmnistmsvhnsynusps.npz', 'test': './data/12000_test_mnistmnistmsvhnsynusps.npz'}\n",
            "reading ./data/12000_train_mnistmnistmsvhnsynusps.npz, number of samples: 60000\n",
            "reading ./data/12000_test_mnistmnistmsvhnsynusps.npz, number of samples: 21600\n",
            "reading ./data/12000_test_mnistmnistmsvhnsynusps.npz, number of samples: 21600\n"
          ]
        },
        {
          "output_type": "stream",
          "name": "stderr",
          "text": [
            "100%|██████████| 10/10 [04:32<00:00, 27.28s/it]\n"
          ]
        },
        {
          "output_type": "stream",
          "name": "stdout",
          "text": [
            "train acc: \n",
            "tensor(95.3567)\n",
            "test acc: \n",
            "tensor(91.9537)\n",
            "*******************************************************************************************\n",
            "Learning Rate: 0.02\tBatch Size: 64\n",
            "datafiles to read:  {'train': './data/12000_train_mnistmnistmsvhnsynusps.npz', 'test': './data/12000_test_mnistmnistmsvhnsynusps.npz'}\n",
            "reading ./data/12000_train_mnistmnistmsvhnsynusps.npz, number of samples: 60000\n",
            "reading ./data/12000_test_mnistmnistmsvhnsynusps.npz, number of samples: 21600\n",
            "reading ./data/12000_test_mnistmnistmsvhnsynusps.npz, number of samples: 21600\n"
          ]
        },
        {
          "output_type": "stream",
          "name": "stderr",
          "text": [
            "100%|██████████| 10/10 [04:10<00:00, 25.08s/it]\n"
          ]
        },
        {
          "output_type": "stream",
          "name": "stdout",
          "text": [
            "train acc: \n",
            "tensor(93.2517)\n",
            "test acc: \n",
            "tensor(90.9306)\n",
            "*******************************************************************************************\n",
            "Learning Rate: 0.025\tBatch Size: 16\n",
            "datafiles to read:  {'train': './data/12000_train_mnistmnistmsvhnsynusps.npz', 'test': './data/12000_test_mnistmnistmsvhnsynusps.npz'}\n",
            "reading ./data/12000_train_mnistmnistmsvhnsynusps.npz, number of samples: 60000\n",
            "reading ./data/12000_test_mnistmnistmsvhnsynusps.npz, number of samples: 21600\n",
            "reading ./data/12000_test_mnistmnistmsvhnsynusps.npz, number of samples: 21600\n"
          ]
        },
        {
          "output_type": "stream",
          "name": "stderr",
          "text": [
            "100%|██████████| 10/10 [05:14<00:00, 31.41s/it]\n"
          ]
        },
        {
          "output_type": "stream",
          "name": "stdout",
          "text": [
            "train acc: \n",
            "tensor(96.3417)\n",
            "test acc: \n",
            "tensor(92.4491)\n",
            "*******************************************************************************************\n",
            "Learning Rate: 0.025\tBatch Size: 32\n",
            "datafiles to read:  {'train': './data/12000_train_mnistmnistmsvhnsynusps.npz', 'test': './data/12000_test_mnistmnistmsvhnsynusps.npz'}\n",
            "reading ./data/12000_train_mnistmnistmsvhnsynusps.npz, number of samples: 60000\n",
            "reading ./data/12000_test_mnistmnistmsvhnsynusps.npz, number of samples: 21600\n",
            "reading ./data/12000_test_mnistmnistmsvhnsynusps.npz, number of samples: 21600\n"
          ]
        },
        {
          "output_type": "stream",
          "name": "stderr",
          "text": [
            "100%|██████████| 10/10 [04:32<00:00, 27.28s/it]\n"
          ]
        },
        {
          "output_type": "stream",
          "name": "stdout",
          "text": [
            "train acc: \n",
            "tensor(95.8533)\n",
            "test acc: \n",
            "tensor(92.0509)\n",
            "*******************************************************************************************\n",
            "Learning Rate: 0.025\tBatch Size: 64\n",
            "datafiles to read:  {'train': './data/12000_train_mnistmnistmsvhnsynusps.npz', 'test': './data/12000_test_mnistmnistmsvhnsynusps.npz'}\n",
            "reading ./data/12000_train_mnistmnistmsvhnsynusps.npz, number of samples: 60000\n",
            "reading ./data/12000_test_mnistmnistmsvhnsynusps.npz, number of samples: 21600\n",
            "reading ./data/12000_test_mnistmnistmsvhnsynusps.npz, number of samples: 21600\n"
          ]
        },
        {
          "output_type": "stream",
          "name": "stderr",
          "text": [
            "100%|██████████| 10/10 [04:09<00:00, 24.91s/it]\n"
          ]
        },
        {
          "output_type": "stream",
          "name": "stdout",
          "text": [
            "train acc: \n",
            "tensor(94.1217)\n",
            "test acc: \n",
            "tensor(91.4444)\n",
            "*******************************************************************************************\n",
            "Learning Rate: 0.03\tBatch Size: 16\n",
            "datafiles to read:  {'train': './data/12000_train_mnistmnistmsvhnsynusps.npz', 'test': './data/12000_test_mnistmnistmsvhnsynusps.npz'}\n",
            "reading ./data/12000_train_mnistmnistmsvhnsynusps.npz, number of samples: 60000\n",
            "reading ./data/12000_test_mnistmnistmsvhnsynusps.npz, number of samples: 21600\n",
            "reading ./data/12000_test_mnistmnistmsvhnsynusps.npz, number of samples: 21600\n"
          ]
        },
        {
          "output_type": "stream",
          "name": "stderr",
          "text": [
            "100%|██████████| 10/10 [05:15<00:00, 31.53s/it]\n"
          ]
        },
        {
          "output_type": "stream",
          "name": "stdout",
          "text": [
            "train acc: \n",
            "tensor(96.2100)\n",
            "test acc: \n",
            "tensor(92.5278)\n",
            "*******************************************************************************************\n",
            "Learning Rate: 0.03\tBatch Size: 32\n",
            "datafiles to read:  {'train': './data/12000_train_mnistmnistmsvhnsynusps.npz', 'test': './data/12000_test_mnistmnistmsvhnsynusps.npz'}\n",
            "reading ./data/12000_train_mnistmnistmsvhnsynusps.npz, number of samples: 60000\n",
            "reading ./data/12000_test_mnistmnistmsvhnsynusps.npz, number of samples: 21600\n",
            "reading ./data/12000_test_mnistmnistmsvhnsynusps.npz, number of samples: 21600\n"
          ]
        },
        {
          "output_type": "stream",
          "name": "stderr",
          "text": [
            "100%|██████████| 10/10 [04:32<00:00, 27.22s/it]\n"
          ]
        },
        {
          "output_type": "stream",
          "name": "stdout",
          "text": [
            "train acc: \n",
            "tensor(96.1183)\n",
            "test acc: \n",
            "tensor(92.1574)\n",
            "*******************************************************************************************\n",
            "Learning Rate: 0.03\tBatch Size: 64\n",
            "datafiles to read:  {'train': './data/12000_train_mnistmnistmsvhnsynusps.npz', 'test': './data/12000_test_mnistmnistmsvhnsynusps.npz'}\n",
            "reading ./data/12000_train_mnistmnistmsvhnsynusps.npz, number of samples: 60000\n",
            "reading ./data/12000_test_mnistmnistmsvhnsynusps.npz, number of samples: 21600\n",
            "reading ./data/12000_test_mnistmnistmsvhnsynusps.npz, number of samples: 21600\n"
          ]
        },
        {
          "output_type": "stream",
          "name": "stderr",
          "text": [
            "100%|██████████| 10/10 [04:10<00:00, 25.09s/it]\n"
          ]
        },
        {
          "output_type": "stream",
          "name": "stdout",
          "text": [
            "train acc: \n",
            "tensor(94.7083)\n",
            "test acc: \n",
            "tensor(91.7917)\n",
            "*******************************************************************************************\n",
            "Learning Rate: 0.035\tBatch Size: 16\n",
            "datafiles to read:  {'train': './data/12000_train_mnistmnistmsvhnsynusps.npz', 'test': './data/12000_test_mnistmnistmsvhnsynusps.npz'}\n",
            "reading ./data/12000_train_mnistmnistmsvhnsynusps.npz, number of samples: 60000\n",
            "reading ./data/12000_test_mnistmnistmsvhnsynusps.npz, number of samples: 21600\n",
            "reading ./data/12000_test_mnistmnistmsvhnsynusps.npz, number of samples: 21600\n"
          ]
        },
        {
          "output_type": "stream",
          "name": "stderr",
          "text": [
            "100%|██████████| 10/10 [05:34<00:00, 33.43s/it]\n"
          ]
        },
        {
          "output_type": "stream",
          "name": "stdout",
          "text": [
            "train acc: \n",
            "tensor(96.0750)\n",
            "test acc: \n",
            "tensor(92.1204)\n",
            "*******************************************************************************************\n",
            "Learning Rate: 0.035\tBatch Size: 32\n",
            "datafiles to read:  {'train': './data/12000_train_mnistmnistmsvhnsynusps.npz', 'test': './data/12000_test_mnistmnistmsvhnsynusps.npz'}\n",
            "reading ./data/12000_train_mnistmnistmsvhnsynusps.npz, number of samples: 60000\n",
            "reading ./data/12000_test_mnistmnistmsvhnsynusps.npz, number of samples: 21600\n",
            "reading ./data/12000_test_mnistmnistmsvhnsynusps.npz, number of samples: 21600\n"
          ]
        },
        {
          "output_type": "stream",
          "name": "stderr",
          "text": [
            "100%|██████████| 10/10 [04:34<00:00, 27.46s/it]\n"
          ]
        },
        {
          "output_type": "stream",
          "name": "stdout",
          "text": [
            "train acc: \n",
            "tensor(96.1033)\n",
            "test acc: \n",
            "tensor(91.3796)\n",
            "*******************************************************************************************\n",
            "Learning Rate: 0.035\tBatch Size: 64\n",
            "datafiles to read:  {'train': './data/12000_train_mnistmnistmsvhnsynusps.npz', 'test': './data/12000_test_mnistmnistmsvhnsynusps.npz'}\n",
            "reading ./data/12000_train_mnistmnistmsvhnsynusps.npz, number of samples: 60000\n",
            "reading ./data/12000_test_mnistmnistmsvhnsynusps.npz, number of samples: 21600\n",
            "reading ./data/12000_test_mnistmnistmsvhnsynusps.npz, number of samples: 21600\n"
          ]
        },
        {
          "output_type": "stream",
          "name": "stderr",
          "text": [
            "100%|██████████| 10/10 [04:11<00:00, 25.13s/it]"
          ]
        },
        {
          "output_type": "stream",
          "name": "stdout",
          "text": [
            "train acc: \n",
            "tensor(95.0150)\n",
            "test acc: \n",
            "tensor(91.6389)\n"
          ]
        },
        {
          "output_type": "stream",
          "name": "stderr",
          "text": [
            "\n"
          ]
        }
      ]
    },
    {
      "cell_type": "code",
      "source": [
        "from utils import custom_plot_training_stats\n",
        "from utils import get_data_loaders\n",
        "\n",
        "def loaders_demoNP():\n",
        "    num_epochs = 10\n",
        "    full_dataloaders, _ = get_data_loaders(\n",
        "        filenames={\n",
        "            'train': './data/12000_train_mnistmnistmsvhnsynusps.npz',\n",
        "            'test': './data/12000_test_mnistmnistmsvhnsynusps.npz',\n",
        "        },\n",
        "        batch_size= 16\n",
        "\n",
        "    )\n",
        "    print(full_dataloaders.keys())\n",
        "    model = demo_model()\n",
        "    optimizer1 = torch.optim.SGD(model.parameters(), lr=0.028)\n",
        "    optimizer2 = torch.optim.SGD(model.parameters(), lr=0.023)\n",
        "    cross_entropy = nn.CrossEntropyLoss()\n",
        "    acc_history = {'train': [], 'test': []}\n",
        "    loss_history = {'train': [], 'test': []}\n",
        "    i = 0;\n",
        "    for epoch in trange(num_epochs):\n",
        "        i += 1\n",
        "        if(i < 6):\n",
        "          train_acc, train_loss = train_one_epoch(model=model, optim=optimizer1, dataloader=full_dataloaders['train'] , loss_fn=cross_entropy)\n",
        "        else:\n",
        "          train_acc, train_loss = train_one_epoch(model=model, optim=optimizer2, dataloader=full_dataloaders['train'] , loss_fn=cross_entropy)\n",
        "        test_acc, test_loss = test_model(model=model, dataloader=full_dataloaders['test'], loss_fn=cross_entropy)\n",
        "\n",
        "        acc_history['train'].append(train_acc)\n",
        "        acc_history['test'].append(test_acc)\n",
        "        loss_history['train'].append(train_loss)\n",
        "        loss_history['test'].append(test_loss)\n",
        "\n",
        "    custom_plot_training_stats(acc_history, loss_history, ['train', 'test'], title='demp', dir='demo_plots')\n",
        "    print(\"train acc: \" )\n",
        "    print( str(acc_history['train'][9]));\n",
        "    print(\"test acc: \")\n",
        "    print( str(acc_history['test'][9]));"
      ],
      "metadata": {
        "id": "VSQxpVqqIWYS"
      },
      "execution_count": null,
      "outputs": []
    },
    {
      "cell_type": "markdown",
      "source": [
        "model with dynamic learning rate"
      ],
      "metadata": {
        "id": "X-XBjw9eVFc9"
      }
    },
    {
      "cell_type": "code",
      "source": [
        "loaders_demoNP()"
      ],
      "metadata": {
        "colab": {
          "base_uri": "https://localhost:8080/",
          "height": 1000
        },
        "id": "cJKs3xfyKSru",
        "outputId": "0c916422-f685-4a78-8cde-07ba0aa27000"
      },
      "execution_count": null,
      "outputs": [
        {
          "output_type": "stream",
          "name": "stdout",
          "text": [
            "datafiles to read:  {'train': './data/12000_train_mnistmnistmsvhnsynusps.npz', 'test': './data/12000_test_mnistmnistmsvhnsynusps.npz'}\n",
            "reading ./data/12000_train_mnistmnistmsvhnsynusps.npz, number of samples: 60000\n",
            "reading ./data/12000_test_mnistmnistmsvhnsynusps.npz, number of samples: 21600\n",
            "reading ./data/12000_test_mnistmnistmsvhnsynusps.npz, number of samples: 21600\n",
            "dict_keys(['train', 'test', 'test_missing', 'train_size', 'test_size', 'test_missing_size'])\n"
          ]
        },
        {
          "output_type": "stream",
          "name": "stderr",
          "text": [
            "100%|██████████| 10/10 [05:23<00:00, 32.32s/it]\n"
          ]
        },
        {
          "output_type": "error",
          "ename": "OSError",
          "evalue": "ignored",
          "traceback": [
            "\u001b[0;31m---------------------------------------------------------------------------\u001b[0m",
            "\u001b[0;31mOSError\u001b[0m                                   Traceback (most recent call last)",
            "\u001b[0;32m<ipython-input-29-fe562d6a8a76>\u001b[0m in \u001b[0;36m<cell line: 1>\u001b[0;34m()\u001b[0m\n\u001b[0;32m----> 1\u001b[0;31m \u001b[0mloaders_demoNP\u001b[0m\u001b[0;34m(\u001b[0m\u001b[0;34m)\u001b[0m\u001b[0;34m\u001b[0m\u001b[0;34m\u001b[0m\u001b[0m\n\u001b[0m",
            "\u001b[0;32m<ipython-input-28-3b4a6a93def4>\u001b[0m in \u001b[0;36mloaders_demoNP\u001b[0;34m()\u001b[0m\n\u001b[1;32m     33\u001b[0m         \u001b[0mloss_history\u001b[0m\u001b[0;34m[\u001b[0m\u001b[0;34m'test'\u001b[0m\u001b[0;34m]\u001b[0m\u001b[0;34m.\u001b[0m\u001b[0mappend\u001b[0m\u001b[0;34m(\u001b[0m\u001b[0mtest_loss\u001b[0m\u001b[0;34m)\u001b[0m\u001b[0;34m\u001b[0m\u001b[0;34m\u001b[0m\u001b[0m\n\u001b[1;32m     34\u001b[0m \u001b[0;34m\u001b[0m\u001b[0m\n\u001b[0;32m---> 35\u001b[0;31m     \u001b[0mcustom_plot_training_stats\u001b[0m\u001b[0;34m(\u001b[0m\u001b[0macc_history\u001b[0m\u001b[0;34m,\u001b[0m \u001b[0mloss_history\u001b[0m\u001b[0;34m,\u001b[0m \u001b[0;34m[\u001b[0m\u001b[0;34m'train'\u001b[0m\u001b[0;34m,\u001b[0m \u001b[0;34m'test'\u001b[0m\u001b[0;34m]\u001b[0m\u001b[0;34m,\u001b[0m \u001b[0mtitle\u001b[0m\u001b[0;34m=\u001b[0m\u001b[0;34m'demp'\u001b[0m\u001b[0;34m,\u001b[0m \u001b[0mdir\u001b[0m\u001b[0;34m=\u001b[0m\u001b[0;34m'demo_plots'\u001b[0m\u001b[0;34m)\u001b[0m\u001b[0;34m\u001b[0m\u001b[0;34m\u001b[0m\u001b[0m\n\u001b[0m\u001b[1;32m     36\u001b[0m     \u001b[0mprint\u001b[0m\u001b[0;34m(\u001b[0m\u001b[0;34m\"train acc: \"\u001b[0m \u001b[0;34m)\u001b[0m\u001b[0;34m\u001b[0m\u001b[0;34m\u001b[0m\u001b[0m\n\u001b[1;32m     37\u001b[0m     \u001b[0mprint\u001b[0m\u001b[0;34m(\u001b[0m \u001b[0mstr\u001b[0m\u001b[0;34m(\u001b[0m\u001b[0macc_history\u001b[0m\u001b[0;34m[\u001b[0m\u001b[0;34m'train'\u001b[0m\u001b[0;34m]\u001b[0m\u001b[0;34m[\u001b[0m\u001b[0;36m9\u001b[0m\u001b[0;34m]\u001b[0m\u001b[0;34m)\u001b[0m\u001b[0;34m)\u001b[0m\u001b[0;34m;\u001b[0m\u001b[0;34m\u001b[0m\u001b[0;34m\u001b[0m\u001b[0m\n",
            "\u001b[0;32m/content/drive/.shortcut-targets-by-id/1olR9djsPqRY8dxn01k2qeMnqfOfqWRQE/phase4 public/utils.py\u001b[0m in \u001b[0;36mcustom_plot_training_stats\u001b[0;34m(acc_hist, loss_hist, phase_list, title, dir)\u001b[0m\n\u001b[1;32m    149\u001b[0m     \u001b[0mfig\u001b[0m\u001b[0;34m.\u001b[0m\u001b[0msuptitle\u001b[0m\u001b[0;34m(\u001b[0m\u001b[0;34mf'{title}'\u001b[0m\u001b[0;34m)\u001b[0m\u001b[0;34m\u001b[0m\u001b[0;34m\u001b[0m\u001b[0m\n\u001b[1;32m    150\u001b[0m \u001b[0;34m\u001b[0m\u001b[0m\n\u001b[0;32m--> 151\u001b[0;31m     \u001b[0mmake_dir\u001b[0m\u001b[0;34m(\u001b[0m\u001b[0mdir\u001b[0m\u001b[0;34m)\u001b[0m\u001b[0;34m\u001b[0m\u001b[0;34m\u001b[0m\u001b[0m\n\u001b[0m\u001b[1;32m    152\u001b[0m     \u001b[0mplt\u001b[0m\u001b[0;34m.\u001b[0m\u001b[0msavefig\u001b[0m\u001b[0;34m(\u001b[0m\u001b[0;34mf'{dir}/acc_loss.jpg'\u001b[0m\u001b[0;34m)\u001b[0m\u001b[0;34m\u001b[0m\u001b[0;34m\u001b[0m\u001b[0m\n\u001b[1;32m    153\u001b[0m     \u001b[0mplt\u001b[0m\u001b[0;34m.\u001b[0m\u001b[0mclf\u001b[0m\u001b[0;34m(\u001b[0m\u001b[0;34m)\u001b[0m\u001b[0;34m\u001b[0m\u001b[0;34m\u001b[0m\u001b[0m\n",
            "\u001b[0;32m/content/drive/.shortcut-targets-by-id/1olR9djsPqRY8dxn01k2qeMnqfOfqWRQE/phase4 public/utils.py\u001b[0m in \u001b[0;36mmake_dir\u001b[0;34m(path_to_save)\u001b[0m\n\u001b[1;32m     49\u001b[0m \u001b[0;32mdef\u001b[0m \u001b[0mmake_dir\u001b[0m\u001b[0;34m(\u001b[0m\u001b[0mpath_to_save\u001b[0m\u001b[0;34m)\u001b[0m\u001b[0;34m:\u001b[0m\u001b[0;34m\u001b[0m\u001b[0;34m\u001b[0m\u001b[0m\n\u001b[1;32m     50\u001b[0m     \u001b[0;32mif\u001b[0m \u001b[0;32mnot\u001b[0m \u001b[0mos\u001b[0m\u001b[0;34m.\u001b[0m\u001b[0mpath\u001b[0m\u001b[0;34m.\u001b[0m\u001b[0mexists\u001b[0m\u001b[0;34m(\u001b[0m\u001b[0mpath_to_save\u001b[0m\u001b[0;34m)\u001b[0m\u001b[0;34m:\u001b[0m\u001b[0;34m\u001b[0m\u001b[0;34m\u001b[0m\u001b[0m\n\u001b[0;32m---> 51\u001b[0;31m         \u001b[0mos\u001b[0m\u001b[0;34m.\u001b[0m\u001b[0mmakedirs\u001b[0m\u001b[0;34m(\u001b[0m\u001b[0mpath_to_save\u001b[0m\u001b[0;34m)\u001b[0m\u001b[0;34m\u001b[0m\u001b[0;34m\u001b[0m\u001b[0m\n\u001b[0m\u001b[1;32m     52\u001b[0m \u001b[0;34m\u001b[0m\u001b[0m\n\u001b[1;32m     53\u001b[0m \u001b[0;32mclass\u001b[0m \u001b[0mcustomDataset\u001b[0m\u001b[0;34m(\u001b[0m\u001b[0mdata\u001b[0m\u001b[0;34m.\u001b[0m\u001b[0mDataset\u001b[0m\u001b[0;34m)\u001b[0m\u001b[0;34m:\u001b[0m\u001b[0;34m\u001b[0m\u001b[0;34m\u001b[0m\u001b[0m\n",
            "\u001b[0;32m/usr/lib/python3.10/os.py\u001b[0m in \u001b[0;36mmakedirs\u001b[0;34m(name, mode, exist_ok)\u001b[0m\n\u001b[1;32m    223\u001b[0m             \u001b[0;32mreturn\u001b[0m\u001b[0;34m\u001b[0m\u001b[0;34m\u001b[0m\u001b[0m\n\u001b[1;32m    224\u001b[0m     \u001b[0;32mtry\u001b[0m\u001b[0;34m:\u001b[0m\u001b[0;34m\u001b[0m\u001b[0;34m\u001b[0m\u001b[0m\n\u001b[0;32m--> 225\u001b[0;31m         \u001b[0mmkdir\u001b[0m\u001b[0;34m(\u001b[0m\u001b[0mname\u001b[0m\u001b[0;34m,\u001b[0m \u001b[0mmode\u001b[0m\u001b[0;34m)\u001b[0m\u001b[0;34m\u001b[0m\u001b[0;34m\u001b[0m\u001b[0m\n\u001b[0m\u001b[1;32m    226\u001b[0m     \u001b[0;32mexcept\u001b[0m \u001b[0mOSError\u001b[0m\u001b[0;34m:\u001b[0m\u001b[0;34m\u001b[0m\u001b[0;34m\u001b[0m\u001b[0m\n\u001b[1;32m    227\u001b[0m         \u001b[0;31m# Cannot rely on checking for EEXIST, since the operating system\u001b[0m\u001b[0;34m\u001b[0m\u001b[0;34m\u001b[0m\u001b[0m\n",
            "\u001b[0;31mOSError\u001b[0m: [Errno 30] Read-only file system: 'demo_plots'"
          ]
        },
        {
          "output_type": "display_data",
          "data": {
            "text/plain": [
              "<Figure size 1400x600 with 2 Axes>"
            ],
            "image/png": "[encoded data removed]"
          },
          "metadata": {}
        }
      ]
    },
    {
      "cell_type": "code",
      "source": [
        "from utils import custom_plot_training_stats\n",
        "from utils import get_data_loaders\n",
        "\n",
        "def final():\n",
        "    num_epochs = 10\n",
        "    full_dataloaders, _ = get_data_loaders(\n",
        "        filenames={\n",
        "            'train': './data/12000_train_mnistmnistmsvhnsynusps.npz',\n",
        "            'test': './data/12000_test_mnistmnistmsvhnsynusps.npz',\n",
        "        },\n",
        "        batch_size= 16\n",
        "\n",
        "    )\n",
        "    print(full_dataloaders.keys())\n",
        "    model = demo_model()\n",
        "    optimizer1 = torch.optim.SGD(model.parameters(), lr=0.025)\n",
        "    cross_entropy = nn.CrossEntropyLoss()\n",
        "    acc_history = {'train': [], 'test': []}\n",
        "    loss_history = {'train': [], 'test': []}\n",
        "    for epoch in trange(num_epochs):\n",
        "\n",
        "       train_acc, train_loss = train_one_epoch(model=model, optim=optimizer1, dataloader=full_dataloaders['train'] , loss_fn=cross_entropy)\n",
        "       test_acc, test_loss = test_model(model=model, dataloader=full_dataloaders['test'], loss_fn=cross_entropy)\n",
        "\n",
        "       acc_history['train'].append(train_acc)\n",
        "       acc_history['test'].append(test_acc)\n",
        "       loss_history['train'].append(train_loss)\n",
        "       loss_history['test'].append(test_loss)\n",
        "    print(\"train acc: \" )\n",
        "    print( str(acc_history['train'][9]));\n",
        "    print(\"test acc: \")\n",
        "    print( str(acc_history['test'][9]));\n",
        "    custom_plot_training_stats(acc_history, loss_history, ['train', 'test'], title='demp', dir='demo_plots')\n"
      ],
      "metadata": {
        "id": "NLHLof0CfMz4"
      },
      "execution_count": null,
      "outputs": []
    },
    {
      "cell_type": "markdown",
      "source": [
        "model for test"
      ],
      "metadata": {
        "id": "ZXDLHuw6U-nL"
      }
    },
    {
      "cell_type": "code",
      "source": [
        "final()"
      ],
      "metadata": {
        "colab": {
          "base_uri": "https://localhost:8080/",
          "height": 1000
        },
        "id": "9EkRVJP0gDky",
        "outputId": "bdae1b66-b6c5-4c1e-a922-4ff370c2120d"
      },
      "execution_count": null,
      "outputs": [
        {
          "output_type": "stream",
          "name": "stdout",
          "text": [
            "datafiles to read:  {'train': './data/12000_train_mnistmnistmsvhnsynusps.npz', 'test': './data/12000_test_mnistmnistmsvhnsynusps.npz'}\n",
            "reading ./data/12000_train_mnistmnistmsvhnsynusps.npz, number of samples: 60000\n",
            "reading ./data/12000_test_mnistmnistmsvhnsynusps.npz, number of samples: 21600\n",
            "reading ./data/12000_test_mnistmnistmsvhnsynusps.npz, number of samples: 21600\n",
            "dict_keys(['train', 'test', 'test_missing', 'train_size', 'test_size', 'test_missing_size'])\n"
          ]
        },
        {
          "output_type": "stream",
          "name": "stderr",
          "text": [
            "100%|██████████| 10/10 [05:24<00:00, 32.49s/it]"
          ]
        },
        {
          "output_type": "stream",
          "name": "stdout",
          "text": [
            "train acc: \n",
            "tensor(96.3417)\n",
            "test acc: \n",
            "tensor(92.4491)\n"
          ]
        },
        {
          "output_type": "stream",
          "name": "stderr",
          "text": [
            "\n"
          ]
        },
        {
          "output_type": "error",
          "ename": "OSError",
          "evalue": "ignored",
          "traceback": [
            "\u001b[0;31m---------------------------------------------------------------------------\u001b[0m",
            "\u001b[0;31mOSError\u001b[0m                                   Traceback (most recent call last)",
            "\u001b[0;32m<ipython-input-33-1857725800a3>\u001b[0m in \u001b[0;36m<cell line: 1>\u001b[0;34m()\u001b[0m\n\u001b[0;32m----> 1\u001b[0;31m \u001b[0mfinal\u001b[0m\u001b[0;34m(\u001b[0m\u001b[0;34m)\u001b[0m\u001b[0;34m\u001b[0m\u001b[0;34m\u001b[0m\u001b[0m\n\u001b[0m",
            "\u001b[0;32m<ipython-input-32-1de19db09b71>\u001b[0m in \u001b[0;36mfinal\u001b[0;34m()\u001b[0m\n\u001b[1;32m     32\u001b[0m     \u001b[0mprint\u001b[0m\u001b[0;34m(\u001b[0m\u001b[0;34m\"test acc: \"\u001b[0m\u001b[0;34m)\u001b[0m\u001b[0;34m\u001b[0m\u001b[0;34m\u001b[0m\u001b[0m\n\u001b[1;32m     33\u001b[0m     \u001b[0mprint\u001b[0m\u001b[0;34m(\u001b[0m \u001b[0mstr\u001b[0m\u001b[0;34m(\u001b[0m\u001b[0macc_history\u001b[0m\u001b[0;34m[\u001b[0m\u001b[0;34m'test'\u001b[0m\u001b[0;34m]\u001b[0m\u001b[0;34m[\u001b[0m\u001b[0;36m9\u001b[0m\u001b[0;34m]\u001b[0m\u001b[0;34m)\u001b[0m\u001b[0;34m)\u001b[0m\u001b[0;34m;\u001b[0m\u001b[0;34m\u001b[0m\u001b[0;34m\u001b[0m\u001b[0m\n\u001b[0;32m---> 34\u001b[0;31m     \u001b[0mcustom_plot_training_stats\u001b[0m\u001b[0;34m(\u001b[0m\u001b[0macc_history\u001b[0m\u001b[0;34m,\u001b[0m \u001b[0mloss_history\u001b[0m\u001b[0;34m,\u001b[0m \u001b[0;34m[\u001b[0m\u001b[0;34m'train'\u001b[0m\u001b[0;34m,\u001b[0m \u001b[0;34m'test'\u001b[0m\u001b[0;34m]\u001b[0m\u001b[0;34m,\u001b[0m \u001b[0mtitle\u001b[0m\u001b[0;34m=\u001b[0m\u001b[0;34m'demp'\u001b[0m\u001b[0;34m,\u001b[0m \u001b[0mdir\u001b[0m\u001b[0;34m=\u001b[0m\u001b[0;34m'demo_plots'\u001b[0m\u001b[0;34m)\u001b[0m\u001b[0;34m\u001b[0m\u001b[0;34m\u001b[0m\u001b[0m\n\u001b[0m\u001b[1;32m     35\u001b[0m \u001b[0;34m\u001b[0m\u001b[0m\n",
            "\u001b[0;32m/content/drive/.shortcut-targets-by-id/1olR9djsPqRY8dxn01k2qeMnqfOfqWRQE/phase4 public/utils.py\u001b[0m in \u001b[0;36mcustom_plot_training_stats\u001b[0;34m(acc_hist, loss_hist, phase_list, title, dir)\u001b[0m\n\u001b[1;32m    149\u001b[0m     \u001b[0mfig\u001b[0m\u001b[0;34m.\u001b[0m\u001b[0msuptitle\u001b[0m\u001b[0;34m(\u001b[0m\u001b[0;34mf'{title}'\u001b[0m\u001b[0;34m)\u001b[0m\u001b[0;34m\u001b[0m\u001b[0;34m\u001b[0m\u001b[0m\n\u001b[1;32m    150\u001b[0m \u001b[0;34m\u001b[0m\u001b[0m\n\u001b[0;32m--> 151\u001b[0;31m     \u001b[0mmake_dir\u001b[0m\u001b[0;34m(\u001b[0m\u001b[0mdir\u001b[0m\u001b[0;34m)\u001b[0m\u001b[0;34m\u001b[0m\u001b[0;34m\u001b[0m\u001b[0m\n\u001b[0m\u001b[1;32m    152\u001b[0m     \u001b[0mplt\u001b[0m\u001b[0;34m.\u001b[0m\u001b[0msavefig\u001b[0m\u001b[0;34m(\u001b[0m\u001b[0;34mf'{dir}/acc_loss.jpg'\u001b[0m\u001b[0;34m)\u001b[0m\u001b[0;34m\u001b[0m\u001b[0;34m\u001b[0m\u001b[0m\n\u001b[1;32m    153\u001b[0m     \u001b[0mplt\u001b[0m\u001b[0;34m.\u001b[0m\u001b[0mclf\u001b[0m\u001b[0;34m(\u001b[0m\u001b[0;34m)\u001b[0m\u001b[0;34m\u001b[0m\u001b[0;34m\u001b[0m\u001b[0m\n",
            "\u001b[0;32m/content/drive/.shortcut-targets-by-id/1olR9djsPqRY8dxn01k2qeMnqfOfqWRQE/phase4 public/utils.py\u001b[0m in \u001b[0;36mmake_dir\u001b[0;34m(path_to_save)\u001b[0m\n\u001b[1;32m     49\u001b[0m \u001b[0;32mdef\u001b[0m \u001b[0mmake_dir\u001b[0m\u001b[0;34m(\u001b[0m\u001b[0mpath_to_save\u001b[0m\u001b[0;34m)\u001b[0m\u001b[0;34m:\u001b[0m\u001b[0;34m\u001b[0m\u001b[0;34m\u001b[0m\u001b[0m\n\u001b[1;32m     50\u001b[0m     \u001b[0;32mif\u001b[0m \u001b[0;32mnot\u001b[0m \u001b[0mos\u001b[0m\u001b[0;34m.\u001b[0m\u001b[0mpath\u001b[0m\u001b[0;34m.\u001b[0m\u001b[0mexists\u001b[0m\u001b[0;34m(\u001b[0m\u001b[0mpath_to_save\u001b[0m\u001b[0;34m)\u001b[0m\u001b[0;34m:\u001b[0m\u001b[0;34m\u001b[0m\u001b[0;34m\u001b[0m\u001b[0m\n\u001b[0;32m---> 51\u001b[0;31m         \u001b[0mos\u001b[0m\u001b[0;34m.\u001b[0m\u001b[0mmakedirs\u001b[0m\u001b[0;34m(\u001b[0m\u001b[0mpath_to_save\u001b[0m\u001b[0;34m)\u001b[0m\u001b[0;34m\u001b[0m\u001b[0;34m\u001b[0m\u001b[0m\n\u001b[0m\u001b[1;32m     52\u001b[0m \u001b[0;34m\u001b[0m\u001b[0m\n\u001b[1;32m     53\u001b[0m \u001b[0;32mclass\u001b[0m \u001b[0mcustomDataset\u001b[0m\u001b[0;34m(\u001b[0m\u001b[0mdata\u001b[0m\u001b[0;34m.\u001b[0m\u001b[0mDataset\u001b[0m\u001b[0;34m)\u001b[0m\u001b[0;34m:\u001b[0m\u001b[0;34m\u001b[0m\u001b[0;34m\u001b[0m\u001b[0m\n",
            "\u001b[0;32m/usr/lib/python3.10/os.py\u001b[0m in \u001b[0;36mmakedirs\u001b[0;34m(name, mode, exist_ok)\u001b[0m\n\u001b[1;32m    223\u001b[0m             \u001b[0;32mreturn\u001b[0m\u001b[0;34m\u001b[0m\u001b[0;34m\u001b[0m\u001b[0m\n\u001b[1;32m    224\u001b[0m     \u001b[0;32mtry\u001b[0m\u001b[0;34m:\u001b[0m\u001b[0;34m\u001b[0m\u001b[0;34m\u001b[0m\u001b[0m\n\u001b[0;32m--> 225\u001b[0;31m         \u001b[0mmkdir\u001b[0m\u001b[0;34m(\u001b[0m\u001b[0mname\u001b[0m\u001b[0;34m,\u001b[0m \u001b[0mmode\u001b[0m\u001b[0;34m)\u001b[0m\u001b[0;34m\u001b[0m\u001b[0;34m\u001b[0m\u001b[0m\n\u001b[0m\u001b[1;32m    226\u001b[0m     \u001b[0;32mexcept\u001b[0m \u001b[0mOSError\u001b[0m\u001b[0;34m:\u001b[0m\u001b[0;34m\u001b[0m\u001b[0;34m\u001b[0m\u001b[0m\n\u001b[1;32m    227\u001b[0m         \u001b[0;31m# Cannot rely on checking for EEXIST, since the operating system\u001b[0m\u001b[0;34m\u001b[0m\u001b[0;34m\u001b[0m\u001b[0m\n",
            "\u001b[0;31mOSError\u001b[0m: [Errno 30] Read-only file system: 'demo_plots'"
          ]
        },
        {
          "output_type": "display_data",
          "data": {
            "text/plain": [
              "<Figure size 1400x600 with 2 Axes>"
            ],
            "image/png": "[encoded data removed]"
          },
          "metadata": {}
        }
      ]
    },
    {
      "cell_type": "code",
      "source": [
        "from utils import custom_plot_training_stats\n",
        "from utils import get_data_loaders\n",
        "\n",
        "def final():\n",
        "    num_epochs = 10\n",
        "    full_dataloaders, _ = get_data_loaders(\n",
        "        filenames={\n",
        "            'train': './data/12000_train_mnistmnistmsvhnsynusps.npz',\n",
        "            'test': './data/12000_test_mnistmnistmsvhnsynusps.npz',\n",
        "        },\n",
        "        batch_size= 16\n",
        "\n",
        "    )\n",
        "    print(full_dataloaders.keys())\n",
        "    model = demo_model()\n",
        "    optimizer1 = torch.optim.SGD(model.parameters(), lr=0.025)\n",
        "    cross_entropy = nn.CrossEntropyLoss()\n",
        "    acc_history = {'train': [], 'test_missing': []}\n",
        "    loss_history = {'train': [], 'test_missing': []}\n",
        "    for epoch in trange(num_epochs):\n",
        "\n",
        "       train_acc, train_loss = train_one_epoch(model=model, optim=optimizer1, dataloader=full_dataloaders['train'] , loss_fn=cross_entropy)\n",
        "       test_acc, test_loss = test_model(model=model, dataloader=full_dataloaders['test_missing'], loss_fn=cross_entropy)\n",
        "\n",
        "       acc_history['train'].append(train_acc)\n",
        "       acc_history['test_missing'].append(test_acc)\n",
        "       loss_history['train'].append(train_loss)\n",
        "       loss_history['test_missing'].append(test_loss)\n",
        "    print(\"train acc: \" )\n",
        "    print( str(acc_history['train'][9]));\n",
        "    print(\"test_missing acc: \")\n",
        "    print( str(acc_history['test_missing'][9]));\n",
        "    custom_plot_training_stats(acc_history, loss_history, ['train', 'test_missing'], title='demp', dir='demo_plots')\n"
      ],
      "metadata": {
        "id": "rJKzBZbcSZVh"
      },
      "execution_count": 62,
      "outputs": []
    },
    {
      "cell_type": "markdown",
      "source": [
        "model for test_missing"
      ],
      "metadata": {
        "id": "x_IQhnk4U4xP"
      }
    },
    {
      "cell_type": "code",
      "source": [
        "final()"
      ],
      "metadata": {
        "colab": {
          "base_uri": "https://localhost:8080/",
          "height": 1000
        },
        "id": "WjUZPlxjSuyk",
        "outputId": "95cbb723-fbdf-4236-96c5-8064194ec2f3"
      },
      "execution_count": 63,
      "outputs": [
        {
          "output_type": "stream",
          "name": "stdout",
          "text": [
            "datafiles to read:  {'train': './data/12000_train_mnistmnistmsvhnsynusps.npz', 'test': './data/12000_test_mnistmnistmsvhnsynusps.npz'}\n",
            "reading ./data/12000_train_mnistmnistmsvhnsynusps.npz, number of samples: 60000\n",
            "reading ./data/12000_test_mnistmnistmsvhnsynusps.npz, number of samples: 21600\n",
            "reading ./data/12000_test_mnistmnistmsvhnsynusps.npz, number of samples: 21600\n",
            "dict_keys(['train', 'test', 'test_missing', 'train_size', 'test_size', 'test_missing_size'])\n"
          ]
        },
        {
          "output_type": "stream",
          "name": "stderr",
          "text": [
            "100%|██████████| 10/10 [06:28<00:00, 38.86s/it]"
          ]
        },
        {
          "output_type": "stream",
          "name": "stdout",
          "text": [
            "train acc: \n",
            "tensor(96.3417)\n",
            "test_missing acc: \n",
            "tensor(90.3333)\n"
          ]
        },
        {
          "output_type": "stream",
          "name": "stderr",
          "text": [
            "\n"
          ]
        },
        {
          "output_type": "error",
          "ename": "OSError",
          "evalue": "ignored",
          "traceback": [
            "\u001b[0;31m---------------------------------------------------------------------------\u001b[0m",
            "\u001b[0;31mOSError\u001b[0m                                   Traceback (most recent call last)",
            "\u001b[0;32m<ipython-input-63-1857725800a3>\u001b[0m in \u001b[0;36m<cell line: 1>\u001b[0;34m()\u001b[0m\n\u001b[0;32m----> 1\u001b[0;31m \u001b[0mfinal\u001b[0m\u001b[0;34m(\u001b[0m\u001b[0;34m)\u001b[0m\u001b[0;34m\u001b[0m\u001b[0;34m\u001b[0m\u001b[0m\n\u001b[0m",
            "\u001b[0;32m<ipython-input-62-5adcabdeae7d>\u001b[0m in \u001b[0;36mfinal\u001b[0;34m()\u001b[0m\n\u001b[1;32m     31\u001b[0m     \u001b[0mprint\u001b[0m\u001b[0;34m(\u001b[0m\u001b[0;34m\"test_missing acc: \"\u001b[0m\u001b[0;34m)\u001b[0m\u001b[0;34m\u001b[0m\u001b[0;34m\u001b[0m\u001b[0m\n\u001b[1;32m     32\u001b[0m     \u001b[0mprint\u001b[0m\u001b[0;34m(\u001b[0m \u001b[0mstr\u001b[0m\u001b[0;34m(\u001b[0m\u001b[0macc_history\u001b[0m\u001b[0;34m[\u001b[0m\u001b[0;34m'test_missing'\u001b[0m\u001b[0;34m]\u001b[0m\u001b[0;34m[\u001b[0m\u001b[0;36m9\u001b[0m\u001b[0;34m]\u001b[0m\u001b[0;34m)\u001b[0m\u001b[0;34m)\u001b[0m\u001b[0;34m;\u001b[0m\u001b[0;34m\u001b[0m\u001b[0;34m\u001b[0m\u001b[0m\n\u001b[0;32m---> 33\u001b[0;31m     \u001b[0mcustom_plot_training_stats\u001b[0m\u001b[0;34m(\u001b[0m\u001b[0macc_history\u001b[0m\u001b[0;34m,\u001b[0m \u001b[0mloss_history\u001b[0m\u001b[0;34m,\u001b[0m \u001b[0;34m[\u001b[0m\u001b[0;34m'train'\u001b[0m\u001b[0;34m,\u001b[0m \u001b[0;34m'test_missing'\u001b[0m\u001b[0;34m]\u001b[0m\u001b[0;34m,\u001b[0m \u001b[0mtitle\u001b[0m\u001b[0;34m=\u001b[0m\u001b[0;34m'demp'\u001b[0m\u001b[0;34m,\u001b[0m \u001b[0mdir\u001b[0m\u001b[0;34m=\u001b[0m\u001b[0;34m'demo_plots'\u001b[0m\u001b[0;34m)\u001b[0m\u001b[0;34m\u001b[0m\u001b[0;34m\u001b[0m\u001b[0m\n\u001b[0m",
            "\u001b[0;32m/content/drive/.shortcut-targets-by-id/1olR9djsPqRY8dxn01k2qeMnqfOfqWRQE/phase4 public/utils.py\u001b[0m in \u001b[0;36mcustom_plot_training_stats\u001b[0;34m(acc_hist, loss_hist, phase_list, title, dir)\u001b[0m\n\u001b[1;32m    149\u001b[0m     \u001b[0mfig\u001b[0m\u001b[0;34m.\u001b[0m\u001b[0msuptitle\u001b[0m\u001b[0;34m(\u001b[0m\u001b[0;34mf'{title}'\u001b[0m\u001b[0;34m)\u001b[0m\u001b[0;34m\u001b[0m\u001b[0;34m\u001b[0m\u001b[0m\n\u001b[1;32m    150\u001b[0m \u001b[0;34m\u001b[0m\u001b[0m\n\u001b[0;32m--> 151\u001b[0;31m     \u001b[0mmake_dir\u001b[0m\u001b[0;34m(\u001b[0m\u001b[0mdir\u001b[0m\u001b[0;34m)\u001b[0m\u001b[0;34m\u001b[0m\u001b[0;34m\u001b[0m\u001b[0m\n\u001b[0m\u001b[1;32m    152\u001b[0m     \u001b[0mplt\u001b[0m\u001b[0;34m.\u001b[0m\u001b[0msavefig\u001b[0m\u001b[0;34m(\u001b[0m\u001b[0;34mf'{dir}/acc_loss.jpg'\u001b[0m\u001b[0;34m)\u001b[0m\u001b[0;34m\u001b[0m\u001b[0;34m\u001b[0m\u001b[0m\n\u001b[1;32m    153\u001b[0m     \u001b[0mplt\u001b[0m\u001b[0;34m.\u001b[0m\u001b[0mclf\u001b[0m\u001b[0;34m(\u001b[0m\u001b[0;34m)\u001b[0m\u001b[0;34m\u001b[0m\u001b[0;34m\u001b[0m\u001b[0m\n",
            "\u001b[0;32m/content/drive/.shortcut-targets-by-id/1olR9djsPqRY8dxn01k2qeMnqfOfqWRQE/phase4 public/utils.py\u001b[0m in \u001b[0;36mmake_dir\u001b[0;34m(path_to_save)\u001b[0m\n\u001b[1;32m     49\u001b[0m \u001b[0;32mdef\u001b[0m \u001b[0mmake_dir\u001b[0m\u001b[0;34m(\u001b[0m\u001b[0mpath_to_save\u001b[0m\u001b[0;34m)\u001b[0m\u001b[0;34m:\u001b[0m\u001b[0;34m\u001b[0m\u001b[0;34m\u001b[0m\u001b[0m\n\u001b[1;32m     50\u001b[0m     \u001b[0;32mif\u001b[0m \u001b[0;32mnot\u001b[0m \u001b[0mos\u001b[0m\u001b[0;34m.\u001b[0m\u001b[0mpath\u001b[0m\u001b[0;34m.\u001b[0m\u001b[0mexists\u001b[0m\u001b[0;34m(\u001b[0m\u001b[0mpath_to_save\u001b[0m\u001b[0;34m)\u001b[0m\u001b[0;34m:\u001b[0m\u001b[0;34m\u001b[0m\u001b[0;34m\u001b[0m\u001b[0m\n\u001b[0;32m---> 51\u001b[0;31m         \u001b[0mos\u001b[0m\u001b[0;34m.\u001b[0m\u001b[0mmakedirs\u001b[0m\u001b[0;34m(\u001b[0m\u001b[0mpath_to_save\u001b[0m\u001b[0;34m)\u001b[0m\u001b[0;34m\u001b[0m\u001b[0;34m\u001b[0m\u001b[0m\n\u001b[0m\u001b[1;32m     52\u001b[0m \u001b[0;34m\u001b[0m\u001b[0m\n\u001b[1;32m     53\u001b[0m \u001b[0;32mclass\u001b[0m \u001b[0mcustomDataset\u001b[0m\u001b[0;34m(\u001b[0m\u001b[0mdata\u001b[0m\u001b[0;34m.\u001b[0m\u001b[0mDataset\u001b[0m\u001b[0;34m)\u001b[0m\u001b[0;34m:\u001b[0m\u001b[0;34m\u001b[0m\u001b[0;34m\u001b[0m\u001b[0m\n",
            "\u001b[0;32m/usr/lib/python3.10/os.py\u001b[0m in \u001b[0;36mmakedirs\u001b[0;34m(name, mode, exist_ok)\u001b[0m\n\u001b[1;32m    223\u001b[0m             \u001b[0;32mreturn\u001b[0m\u001b[0;34m\u001b[0m\u001b[0;34m\u001b[0m\u001b[0m\n\u001b[1;32m    224\u001b[0m     \u001b[0;32mtry\u001b[0m\u001b[0;34m:\u001b[0m\u001b[0;34m\u001b[0m\u001b[0;34m\u001b[0m\u001b[0m\n\u001b[0;32m--> 225\u001b[0;31m         \u001b[0mmkdir\u001b[0m\u001b[0;34m(\u001b[0m\u001b[0mname\u001b[0m\u001b[0;34m,\u001b[0m \u001b[0mmode\u001b[0m\u001b[0;34m)\u001b[0m\u001b[0;34m\u001b[0m\u001b[0;34m\u001b[0m\u001b[0m\n\u001b[0m\u001b[1;32m    226\u001b[0m     \u001b[0;32mexcept\u001b[0m \u001b[0mOSError\u001b[0m\u001b[0;34m:\u001b[0m\u001b[0;34m\u001b[0m\u001b[0;34m\u001b[0m\u001b[0m\n\u001b[1;32m    227\u001b[0m         \u001b[0;31m# Cannot rely on checking for EEXIST, since the operating system\u001b[0m\u001b[0;34m\u001b[0m\u001b[0;34m\u001b[0m\u001b[0m\n",
            "\u001b[0;31mOSError\u001b[0m: [Errno 30] Read-only file system: 'demo_plots'"
          ]
        },
        {
          "output_type": "display_data",
          "data": {
            "text/plain": [
              "<Figure size 1400x600 with 2 Axes>"
            ],
            "image/png": "[encoded data removed]"
          },
          "metadata": {}
        }
      ]
    },
    {
      "cell_type": "markdown",
      "source": [
        "with tripletLoss"
      ],
      "metadata": {
        "id": "Igf8Rwy6Vg8O"
      }
    },
    {
      "cell_type": "code",
      "source": [
        "from utils import custom_plot_training_stats\n",
        "from utils import get_data_loaders\n",
        "class demo_model(nn.Module):\n",
        "    def __init__(self) -> None:\n",
        "        super().__init__()\n",
        "\n",
        "        # define layers\n",
        "        # parameters are defined here\n",
        "        self.conv1 = nn.Conv2d(3, 6, 5, padding=2)\n",
        "        self.conv2 = nn.Conv2d(6, 16, 5)\n",
        "        self.fc1   = nn.Linear(16*6*6, 256)\n",
        "        self.fc2   = nn.Linear(512, 240)\n",
        "        self.fc3   = nn.Linear(240, 160)\n",
        "        self.fc4   = nn.Linear(160, 10)\n",
        "    # Forward Pass\n",
        "    def forward(self, images, features):\n",
        "\n",
        "        # 3 * 32 * 32\n",
        "        x = F.max_pool2d(F.relu(self.conv1(images)), (2, 2))\n",
        "        # 6 * 16 * 16\n",
        "        x = F.max_pool2d(F.relu(self.conv2(x)), (2, 2))\n",
        "        # 16 * 6 * 6\n",
        "        x = x.view(-1, self.num_flat_features(x))\n",
        "        # f1 without rlue\n",
        "        x = self.fc1(x)\n",
        "        x =  torch.cat((x, features), dim=1)\n",
        "        baz = F.relu(self.fc2(x))\n",
        "        x = F.relu(self.fc3(baz))\n",
        "        x = self.fc4(x)\n",
        "        return baz, x\n",
        "    def num_flat_features(self, x):\n",
        "        '''\n",
        "        Get the number of features in a batch of tensors `x`.\n",
        "        '''\n",
        "        size = x.size()[1:]\n",
        "        return np.prod(size)\n",
        "\n",
        "class tripletLoss(nn.Module):\n",
        "    def __init__(self, margin: float = 0.005, device = torch.device('cpu')) -> None:\n",
        "        super().__init__()\n",
        "\n",
        "        self.margin = torch.tensor(margin)\n",
        "        self.device = device\n",
        "\n",
        "\n",
        "    def forward(self, embeddings, labels):\n",
        "        dp, dn = self.batch_hard_triplet_loss(embeddings, labels)\n",
        "        triplet_loss = torch.mean(torch.clamp(dp - dn + self.margin, min=0))\n",
        "        return triplet_loss\n",
        "\n",
        "    def batch_hard_triplet_loss(self, embeddings, labels):\n",
        "\n",
        "\n",
        "        dists = self.euclidean_dist(embeddings, embeddings)\n",
        "        same_identity_mask = torch.eq(labels[:, None], labels[None, :])\n",
        "        negative_mask = torch.logical_not(same_identity_mask)\n",
        "        positive_mask = torch.logical_xor(same_identity_mask, torch.eye(labels.shape[0], dtype=torch.bool).to(self.device))\n",
        "        dp, _ = torch.max(dists * (positive_mask.int()), dim=1)\n",
        "        dn = torch.zeros_like(dp)\n",
        "        for i in range(dists.shape[0]):\n",
        "            dn[i] = torch.min(dists[i, :][negative_mask[i, :]])\n",
        "        return dp, dn\n",
        "\n",
        "    def all_diffs(self, a, b):\n",
        "        # a, b -> [N, d]\n",
        "        # return -> [N, N, d]\n",
        "        return a[:, None] - b[None, :]\n",
        "\n",
        "    def euclidean_dist(self, embed1, embed2):\n",
        "        diffs = self.all_diffs(embed1, embed2)\n",
        "        t1 = torch.square(diffs)\n",
        "        t2 = torch.sum(t1, dim=-1)\n",
        "        return torch.sqrt(t2 + 1e-12)\n",
        "\n",
        "def train_one_epoch(model: nn.Module, optim: torch.optim.Optimizer, dataloader: DataLoader, loss_fn, triplet_loss , l):\n",
        "\n",
        "    num_samples = len(dataloader.dataset)\n",
        "    num_batches = len(dataloader)\n",
        "    running_corrects = 0\n",
        "    running_loss = 0.0\n",
        "    running_lossCE = 0.0\n",
        "    running_lossTr = 0.0\n",
        "    model.train()\n",
        "    for batch_indx, (images, features, domain_labels, digit_labels) in enumerate(dataloader): # Get a batch of Data\n",
        "\n",
        "        baz,outputs = model(images, features) # Forward Pass, [N, 10]\n",
        "        lossCE = loss_fn(outputs, digit_labels) # Compute Loss\n",
        "        lossTr = triplet_loss(baz, domain_labels)\n",
        "        loss = lossCE + l * lossTr\n",
        "        loss.backward() # Compute Gradients\n",
        "        optim.step() # Update parameters\n",
        "        optim.zero_grad() # zero the parameter's gradients\n",
        "\n",
        "        _, preds = torch.max(outputs, dim=1) # Explain, [N]\n",
        "        running_corrects += torch.sum(preds == digit_labels)\n",
        "        running_loss += loss.item()\n",
        "        running_lossCE += lossCE.item()\n",
        "        running_lossTr += lossTr.item()\n",
        "\n",
        "    epoch_acc = (running_corrects / num_samples) * 100\n",
        "    epoch_lossCE = (running_lossCE / num_batches)\n",
        "    epoch_lossTr = (running_lossTr / num_batches)\n",
        "    epoch_loss = (running_loss / num_batches)\n",
        "\n",
        "    return epoch_acc, epoch_lossCE, epoch_lossTr, epoch_loss\n",
        "\n",
        "def test_model(model: nn.Module, dataloader: DataLoader, loss_fn, triplet_loss, l):\n",
        "    num_samples = len(dataloader.dataset)\n",
        "    num_batches = len(dataloader)\n",
        "    running_corrects = 0\n",
        "    running_loss = 0.0\n",
        "    running_lossCE = 0.0\n",
        "    running_lossTr = 0.0\n",
        "    model.eval()\n",
        "    with torch.no_grad():\n",
        "        for batch_indx, (images, features, domain_labels, digit_labels) in enumerate(dataloader):\n",
        "            baz, outputs = model(images, features)\n",
        "            lossCE = loss_fn(outputs, digit_labels)\n",
        "            lossTr = triplet_loss(baz, domain_labels)\n",
        "            loss = lossCE + l * lossTr\n",
        "            _, preds = torch.max(outputs, 1)\n",
        "            running_corrects += torch.sum(preds == digit_labels)\n",
        "            running_lossCE += lossCE.item()\n",
        "            running_lossTr += lossTr.item()\n",
        "            running_loss += loss.item()\n",
        "    test_acc = (running_corrects / num_samples) * 100\n",
        "    test_lossCE = (running_lossCE / num_batches)\n",
        "    test_lossTr = (running_lossTr / num_batches)\n",
        "    test_loss = (running_loss / num_batches)\n",
        "    return test_acc, test_lossCE, test_lossTr, test_loss\n",
        "\n",
        "def example(lam):\n",
        "    num_epochs = 10\n",
        "    full_dataloaders, _ = get_data_loaders(\n",
        "        filenames={\n",
        "            'train': './data/12000_train_mnistmnistmsvhnsynusps.npz',\n",
        "            'test': './data/12000_test_mnistmnistmsvhnsynusps.npz',\n",
        "        },\n",
        "        batch_size= 16\n",
        "\n",
        "    )\n",
        "    model = demo_model()\n",
        "    optimizer1 = torch.optim.SGD(model.parameters(), lr=0.025)\n",
        "    cross_entropy = nn.CrossEntropyLoss()\n",
        "    triplet_loss = tripletLoss(margin=0.005)\n",
        "    acc_history = {'train': [], 'test': []}\n",
        "    lossCE_history = {'train': [], 'test': []}\n",
        "    lossTr_history = {'train': [], 'test': []}\n",
        "    loss_history = {'train': [], 'test': []}\n",
        "    l = lam\n",
        "    for epoch in trange(num_epochs):\n",
        "\n",
        "        train_acc, train_lossCE, train_lossTr, train_loss = train_one_epoch(model=model, optim=optimizer1, dataloader=full_dataloaders['train'] , loss_fn=cross_entropy,triplet_loss=triplet_loss , l=lam)\n",
        "        test_acc, test_lossCE, test_lossTr, test_loss = test_model(model=model, dataloader=full_dataloaders['test'], loss_fn=cross_entropy, triplet_loss=triplet_loss, l=lam)\n",
        "\n",
        "        acc_history['train'].append(train_acc)\n",
        "        acc_history['test'].append(test_acc)\n",
        "        lossCE_history['train'].append(train_lossCE)\n",
        "        lossCE_history['test'].append(test_lossCE)\n",
        "        lossTr_history['train'].append(train_lossCE)\n",
        "        lossTr_history['test'].append(test_lossTr)\n",
        "        loss_history['train'].append(train_loss)\n",
        "        loss_history['test'].append(test_loss)\n",
        "    print(\"train lossCE: \")\n",
        "    print( str(lossCE_history['train']))\n",
        "\n",
        "    print(\"test lossCE: \")\n",
        "    print( str(lossCE_history['test']))\n",
        "\n",
        "    print(\"train lossTr: \")\n",
        "    print( str(lossTr_history['train']))\n",
        "\n",
        "    print(\"test lossTr: \")\n",
        "    print( str(lossTr_history['test']))\n",
        "\n",
        "    print(\"train loss: \")\n",
        "    print( str(loss_history['train']))\n",
        "\n",
        "    print(\"test loss: \")\n",
        "    print( str(loss_history['test']))\n",
        "\n",
        "    print(\"train acc: \" )\n",
        "    print( str(acc_history['train']));\n",
        "\n",
        "    print(\"test acc: \")\n",
        "    print( str(acc_history['test']));\n",
        "    print(\"train acc: \" )\n",
        "    print( str(acc_history['train'][9]));\n",
        "    print(\"test acc: \")\n",
        "    print( str(acc_history['test'][9]));\n",
        "\n"
      ],
      "metadata": {
        "id": "GqpmBrijgv2P"
      },
      "execution_count": null,
      "outputs": []
    },
    {
      "cell_type": "markdown",
      "source": [
        "find best lambda"
      ],
      "metadata": {
        "id": "Fw2X4T8pVl_U"
      }
    },
    {
      "cell_type": "code",
      "source": [
        "for lam in [0.05 , 0.1 , 0.15 , 0.2]:\n",
        "  print(\"********************************\")\n",
        "  print(\"lambda = \" )\n",
        "  print(lam)\n",
        "  example(lam)"
      ],
      "metadata": {
        "colab": {
          "base_uri": "https://localhost:8080/"
        },
        "id": "RpT4dTD9qIAq",
        "outputId": "457585f0-7b52-484d-c673-4c1049a7a6fb"
      },
      "execution_count": null,
      "outputs": [
        {
          "output_type": "stream",
          "name": "stdout",
          "text": [
            "********************************\n",
            "lambda = \n",
            "0.05\n",
            "datafiles to read:  {'train': './data/12000_train_mnistmnistmsvhnsynusps.npz', 'test': './data/12000_test_mnistmnistmsvhnsynusps.npz'}\n",
            "reading ./data/12000_train_mnistmnistmsvhnsynusps.npz, number of samples: 60000\n",
            "reading ./data/12000_test_mnistmnistmsvhnsynusps.npz, number of samples: 21600\n",
            "reading ./data/12000_test_mnistmnistmsvhnsynusps.npz, number of samples: 21600\n"
          ]
        },
        {
          "output_type": "stream",
          "name": "stderr",
          "text": [
            "100%|██████████| 10/10 [08:00<00:00, 48.04s/it]\n"
          ]
        },
        {
          "output_type": "stream",
          "name": "stdout",
          "text": [
            "train lossCE: \n",
            "[1.0292711958626906, 0.41173462134922545, 0.308551238634189, 0.2533122944461182, 0.2156187908122316, 0.19062272522461912, 0.17081672001612994, 0.15115452208522087, 0.1460034557887741, 0.1303545946496073]\n",
            "test lossCE: \n",
            "[0.5113698674710813, 0.4086720015149978, 0.35908074282178726, 0.3156399610053093, 0.3164817186684727, 0.30881485400928393, 0.3121684871526021, 0.3051124086487969, 0.31366405598892555, 0.31681322368400827]\n",
            "train lossTr: \n",
            "[1.0292711958626906, 0.41173462134922545, 0.308551238634189, 0.2533122944461182, 0.2156187908122316, 0.19062272522461912, 0.17081672001612994, 0.15115452208522087, 0.1460034557887741, 0.1303545946496073]\n",
            "test lossTr: \n",
            "[2.090787607298957, 1.461460265704879, 1.5412775940144503, 1.5164825690896422, 1.3417808784987708, 1.2558010236146273, 1.1773836776062294, 1.14232019463623, 1.113931155713551, 1.0821101018407002]\n",
            "train loss: \n",
            "[1.1358265700817107, 0.49489482395450274, 0.3777393930820127, 0.31724217976157865, 0.2754631112823884, 0.2474949329155187, 0.22479781039183339, 0.2013608196505656, 0.19434101684720567, 0.17693340738578311]\n",
            "test loss: \n",
            "[0.6159092498929413, 0.4817450156987265, 0.4361446235825618, 0.3914640908991849, 0.3835707635308305, 0.3716049060984342, 0.3710376716805277, 0.3622284190587837, 0.3693606148963725, 0.3709187294680763]\n",
            "train acc: \n",
            "[tensor(66.7283), tensor(87.0767), tensor(90.1383), tensor(92.0450), tensor(93.2067), tensor(93.9967), tensor(94.5667), tensor(95.1917), tensor(95.3450), tensor(95.7833)]\n",
            "test acc: \n",
            "[tensor(84.5556), tensor(87.1065), tensor(88.9028), tensor(90.5185), tensor(90.3704), tensor(90.5880), tensor(90.7824), tensor(91.1019), tensor(90.7546), tensor(91.1852)]\n",
            "train acc: \n",
            "tensor(95.7833)\n",
            "test acc: \n",
            "tensor(91.1852)\n",
            "********************************\n",
            "lambda = \n",
            "0.1\n",
            "datafiles to read:  {'train': './data/12000_train_mnistmnistmsvhnsynusps.npz', 'test': './data/12000_test_mnistmnistmsvhnsynusps.npz'}\n",
            "reading ./data/12000_train_mnistmnistmsvhnsynusps.npz, number of samples: 60000\n",
            "reading ./data/12000_test_mnistmnistmsvhnsynusps.npz, number of samples: 21600\n",
            "reading ./data/12000_test_mnistmnistmsvhnsynusps.npz, number of samples: 21600\n"
          ]
        },
        {
          "output_type": "stream",
          "name": "stderr",
          "text": [
            "100%|██████████| 10/10 [08:36<00:00, 51.69s/it]\n"
          ]
        },
        {
          "output_type": "stream",
          "name": "stdout",
          "text": [
            "train lossCE: \n",
            "[1.0469881261448066, 0.4237146424192935, 0.3222712102351089, 0.2702631023364452, 0.2301758418376092, 0.19743920642739782, 0.18279686047077412, 0.16346135082260396, 0.14823307058991825, 0.13450146375981858]\n",
            "test lossCE: \n",
            "[0.5065582786114128, 0.44269573654358585, 0.4191472168894554, 0.32261192488742785, 0.3488718727873466, 0.34227780528901214, 0.32179212957154957, 0.3392876635309464, 0.3154377931939369, 0.30312628387883134]\n",
            "train lossTr: \n",
            "[1.0469881261448066, 0.4237146424192935, 0.3222712102351089, 0.2702631023364452, 0.2301758418376092, 0.19743920642739782, 0.18279686047077412, 0.16346135082260396, 0.14823307058991825, 0.13450146375981858]\n",
            "test lossTr: \n",
            "[1.316510630680455, 1.0017877654581226, 0.8684249582669388, 0.946141755161807, 0.8496227294385985, 0.8434534683398023, 0.7160916573485722, 0.7329497201905016, 0.6390899326895898, 0.6409763589706186]\n",
            "train loss: \n",
            "[1.1975712242643037, 0.5354498741363486, 0.41001917211314043, 0.3427800963250299, 0.294218424492081, 0.25492074454271546, 0.23627517594966727, 0.2142301690140739, 0.19635369986252238, 0.17966875801652982]\n",
            "test loss: \n",
            "[0.63820934391684, 0.5428745151890648, 0.5059897141572502, 0.41722610229367596, 0.4338341471083738, 0.4266231531601537, 0.39340129682449276, 0.4125826368994442, 0.3793467872367344, 0.3672239208076563]\n",
            "train acc: \n",
            "[tensor(66.2967), tensor(86.6867), tensor(89.8117), tensor(91.4867), tensor(92.8050), tensor(93.7600), tensor(94.2017), tensor(94.7650), tensor(95.1967), tensor(95.7033)]\n",
            "test acc: \n",
            "[tensor(84.8241), tensor(85.9954), tensor(86.6667), tensor(90.3472), tensor(89.8843), tensor(89.7963), tensor(90.5278), tensor(90.1898), tensor(90.7593), tensor(91.5556)]\n",
            "train acc: \n",
            "tensor(95.7033)\n",
            "test acc: \n",
            "tensor(91.5556)\n",
            "********************************\n",
            "lambda = \n",
            "0.15\n",
            "datafiles to read:  {'train': './data/12000_train_mnistmnistmsvhnsynusps.npz', 'test': './data/12000_test_mnistmnistmsvhnsynusps.npz'}\n",
            "reading ./data/12000_train_mnistmnistmsvhnsynusps.npz, number of samples: 60000\n",
            "reading ./data/12000_test_mnistmnistmsvhnsynusps.npz, number of samples: 21600\n",
            "reading ./data/12000_test_mnistmnistmsvhnsynusps.npz, number of samples: 21600\n"
          ]
        },
        {
          "output_type": "stream",
          "name": "stderr",
          "text": [
            "100%|██████████| 10/10 [08:00<00:00, 48.05s/it]\n"
          ]
        },
        {
          "output_type": "stream",
          "name": "stdout",
          "text": [
            "train lossCE: \n",
            "[1.0589803278177976, 0.4345759602467219, 0.32834452702651423, 0.275621979758873, 0.23433392752980192, 0.21030805321576773, 0.18653698477834307, 0.1726385692025535, 0.15493893034441086, 0.14324768022616238]\n",
            "test lossCE: \n",
            "[0.5522141263882319, 0.45193286925968196, 0.4762177428106467, 0.3253314559654919, 0.3440225258581685, 0.29380849626191236, 0.3020922381505025, 0.3568615527400161, 0.3372934200635387, 0.31489524592900936]\n",
            "train lossTr: \n",
            "[1.0589803278177976, 0.4345759602467219, 0.32834452702651423, 0.275621979758873, 0.23433392752980192, 0.21030805321576773, 0.18653698477834307, 0.1726385692025535, 0.15493893034441086, 0.14324768022616238]\n",
            "test lossTr: \n",
            "[0.9787038021451897, 0.7908874567527393, 0.7570028611481259, 0.7049919684458938, 0.6929217522843154, 0.6090640006397626, 0.5674273660760027, 0.5843560656827995, 0.5577314201470774, 0.5165747301534457]\n",
            "train loss: \n",
            "[1.2384346428751944, 0.5632468328873317, 0.42622380450591446, 0.3562187326374153, 0.30635662536981206, 0.27611612054724244, 0.24741741957418464, 0.2301215553950208, 0.20847977370798276, 0.195530824749001]\n",
            "test loss: \n",
            "[0.6990197018230403, 0.570565991923213, 0.589768176978385, 0.4310802558036866, 0.4479607935429171, 0.38516810059599166, 0.38720634658717445, 0.44451496622421677, 0.4209531369063727, 0.3923814579488869]\n",
            "train acc: \n",
            "[tensor(66.0800), tensor(86.1833), tensor(89.6033), tensor(91.3833), tensor(92.6433), tensor(93.3667), tensor(94.0850), tensor(94.3350), tensor(95.0767), tensor(95.3950)]\n",
            "test acc: \n",
            "[tensor(84.0185), tensor(85.9120), tensor(85.5787), tensor(90.2037), tensor(89.9583), tensor(91.4815), tensor(90.7546), tensor(89.6296), tensor(89.8194), tensor(91.6528)]\n",
            "train acc: \n",
            "tensor(95.3950)\n",
            "test acc: \n",
            "tensor(91.6528)\n",
            "********************************\n",
            "lambda = \n",
            "0.2\n",
            "datafiles to read:  {'train': './data/12000_train_mnistmnistmsvhnsynusps.npz', 'test': './data/12000_test_mnistmnistmsvhnsynusps.npz'}\n",
            "reading ./data/12000_train_mnistmnistmsvhnsynusps.npz, number of samples: 60000\n",
            "reading ./data/12000_test_mnistmnistmsvhnsynusps.npz, number of samples: 21600\n",
            "reading ./data/12000_test_mnistmnistmsvhnsynusps.npz, number of samples: 21600\n"
          ]
        },
        {
          "output_type": "stream",
          "name": "stderr",
          "text": [
            "100%|██████████| 10/10 [07:55<00:00, 47.55s/it]"
          ]
        },
        {
          "output_type": "stream",
          "name": "stdout",
          "text": [
            "train lossCE: \n",
            "[1.0877098446309565, 0.44696841217478117, 0.3312712167941034, 0.2768666877601606, 0.2394625795671406, 0.21654791336486426, 0.1892619869222554, 0.17204520925534889, 0.16083084604594236, 0.14474218123805865]\n",
            "test lossCE: \n",
            "[0.5267679722938272, 0.49233859218036136, 0.43800529765862006, 0.34755229891036393, 0.3253600070580702, 0.3282212838308058, 0.3249966615309111, 0.3232948076994917, 0.3125229020735801, 0.31737990720360326]\n",
            "train lossTr: \n",
            "[1.0877098446309565, 0.44696841217478117, 0.3312712167941034, 0.2768666877601606, 0.2394625795671406, 0.21654791336486426, 0.1892619869222554, 0.17204520925534889, 0.16083084604594236, 0.14474218123805865]\n",
            "test lossTr: \n",
            "[0.8599310093627018, 0.7224412372765234, 0.6143300260414576, 0.580963408504699, 0.5582489706103311, 0.4983231640509675, 0.4497522097550057, 0.46710161124795885, 0.44926356420804814, 0.4237632690753822]\n",
            "train loss: \n",
            "[1.284889867011706, 0.591439111623168, 0.43704585108632843, 0.36426950988434253, 0.31484699342908956, 0.2862366237728546, 0.2522670843856254, 0.23177788759736964, 0.2163460328014257, 0.19887718652190525]\n",
            "test loss: \n",
            "[0.6987541765802436, 0.636826842766669, 0.5608713052587376, 0.46374498276798815, 0.43700980334094275, 0.42788591865450143, 0.41494710548849845, 0.41671513120781767, 0.40237561664716515, 0.40213256250781276]\n",
            "train acc: \n",
            "[tensor(65.1283), tensor(85.9933), tensor(89.5217), tensor(91.2900), tensor(92.4550), tensor(93.0850), tensor(94.0400), tensor(94.4167), tensor(94.8417), tensor(95.3567)]\n",
            "test acc: \n",
            "[tensor(84.2083), tensor(84.3657), tensor(86.3148), tensor(89.4815), tensor(90.5694), tensor(90.3333), tensor(90.4259), tensor(90.5278), tensor(90.6667), tensor(91.3426)]\n",
            "train acc: \n",
            "tensor(95.3567)\n",
            "test acc: \n",
            "tensor(91.3426)\n"
          ]
        },
        {
          "output_type": "stream",
          "name": "stderr",
          "text": [
            "\n"
          ]
        }
      ]
    },
    {
      "cell_type": "markdown",
      "source": [
        "test missing with tripletloss"
      ],
      "metadata": {
        "id": "1Mo89qjmbm9L"
      }
    },
    {
      "cell_type": "code",
      "source": [
        "from utils import custom_plot_training_stats\n",
        "from utils import get_data_loaders\n",
        "class demo_model(nn.Module):\n",
        "    def __init__(self) -> None:\n",
        "        super().__init__()\n",
        "\n",
        "        # define layers\n",
        "        # parameters are defined here\n",
        "        self.conv1 = nn.Conv2d(3, 6, 5, padding=2)\n",
        "        self.conv2 = nn.Conv2d(6, 16, 5)\n",
        "        self.fc1   = nn.Linear(16*6*6, 256)\n",
        "        self.fc2   = nn.Linear(512, 240)\n",
        "        self.fc3   = nn.Linear(240, 160)\n",
        "        self.fc4   = nn.Linear(160, 10)\n",
        "    # Forward Pass\n",
        "    def forward(self, images, features):\n",
        "\n",
        "        # 3 * 32 * 32\n",
        "        x = F.max_pool2d(F.relu(self.conv1(images)), (2, 2))\n",
        "        # 6 * 16 * 16\n",
        "        x = F.max_pool2d(F.relu(self.conv2(x)), (2, 2))\n",
        "        # 16 * 6 * 6\n",
        "        x = x.view(-1, self.num_flat_features(x))\n",
        "        # f1 without rlue\n",
        "        x = self.fc1(x)\n",
        "        x =  torch.cat((x, features), dim=1)\n",
        "        baz = F.relu(self.fc2(x))\n",
        "        x = F.relu(self.fc3(baz))\n",
        "        x = self.fc4(x)\n",
        "        return baz, x\n",
        "    def num_flat_features(self, x):\n",
        "        '''\n",
        "        Get the number of features in a batch of tensors `x`.\n",
        "        '''\n",
        "        size = x.size()[1:]\n",
        "        return np.prod(size)\n",
        "\n",
        "class tripletLoss(nn.Module):\n",
        "    def __init__(self, margin: float = 0.005, device = torch.device('cpu')) -> None:\n",
        "        super().__init__()\n",
        "\n",
        "        self.margin = torch.tensor(margin)\n",
        "        self.device = device\n",
        "\n",
        "\n",
        "    def forward(self, embeddings, labels):\n",
        "        dp, dn = self.batch_hard_triplet_loss(embeddings, labels)\n",
        "        triplet_loss = torch.mean(torch.clamp(dp - dn + self.margin, min=0))\n",
        "        return triplet_loss\n",
        "\n",
        "    def batch_hard_triplet_loss(self, embeddings, labels):\n",
        "\n",
        "\n",
        "        dists = self.euclidean_dist(embeddings, embeddings)\n",
        "        same_identity_mask = torch.eq(labels[:, None], labels[None, :])\n",
        "        negative_mask = torch.logical_not(same_identity_mask)\n",
        "        positive_mask = torch.logical_xor(same_identity_mask, torch.eye(labels.shape[0], dtype=torch.bool).to(self.device))\n",
        "        dp, _ = torch.max(dists * (positive_mask.int()), dim=1)\n",
        "        dn = torch.zeros_like(dp)\n",
        "        for i in range(dists.shape[0]):\n",
        "            dn[i] = torch.min(dists[i, :][negative_mask[i, :]])\n",
        "        return dp, dn\n",
        "\n",
        "    def all_diffs(self, a, b):\n",
        "        # a, b -> [N, d]\n",
        "        # return -> [N, N, d]\n",
        "        return a[:, None] - b[None, :]\n",
        "\n",
        "    def euclidean_dist(self, embed1, embed2):\n",
        "        diffs = self.all_diffs(embed1, embed2)\n",
        "        t1 = torch.square(diffs)\n",
        "        t2 = torch.sum(t1, dim=-1)\n",
        "        return torch.sqrt(t2 + 1e-12)\n",
        "\n",
        "def train_one_epoch(model: nn.Module, optim: torch.optim.Optimizer, dataloader: DataLoader, loss_fn, triplet_loss , l):\n",
        "\n",
        "    num_samples = len(dataloader.dataset)\n",
        "    num_batches = len(dataloader)\n",
        "    running_corrects = 0\n",
        "    running_loss = 0.0\n",
        "    running_lossCE = 0.0\n",
        "    running_lossTr = 0.0\n",
        "    model.train()\n",
        "    for batch_indx, (images, features, domain_labels, digit_labels) in enumerate(dataloader): # Get a batch of Data\n",
        "\n",
        "        baz,outputs = model(images, features) # Forward Pass, [N, 10]\n",
        "        lossCE = loss_fn(outputs, digit_labels) # Compute Loss\n",
        "        lossTr = triplet_loss(baz, domain_labels)\n",
        "        loss = lossCE + l * lossTr\n",
        "        loss.backward() # Compute Gradients\n",
        "        optim.step() # Update parameters\n",
        "        optim.zero_grad() # zero the parameter's gradients\n",
        "\n",
        "        _, preds = torch.max(outputs, dim=1) # Explain, [N]\n",
        "        running_corrects += torch.sum(preds == digit_labels)\n",
        "        running_loss += loss.item()\n",
        "        running_lossCE += lossCE.item()\n",
        "        running_lossTr += lossTr.item()\n",
        "\n",
        "    epoch_acc = (running_corrects / num_samples) * 100\n",
        "    epoch_lossCE = (running_lossCE / num_batches)\n",
        "    epoch_lossTr = (running_lossTr / num_batches)\n",
        "    epoch_loss = (running_loss / num_batches)\n",
        "\n",
        "    return epoch_acc, epoch_lossCE, epoch_lossTr, epoch_loss\n",
        "\n",
        "def test_model(model: nn.Module, dataloader: DataLoader, loss_fn, triplet_loss, l):\n",
        "    num_samples = len(dataloader.dataset)\n",
        "    num_batches = len(dataloader)\n",
        "    running_corrects = 0\n",
        "    running_loss = 0.0\n",
        "    running_lossCE = 0.0\n",
        "    running_lossTr = 0.0\n",
        "    model.eval()\n",
        "    with torch.no_grad():\n",
        "        for batch_indx, (images, features, domain_labels, digit_labels) in enumerate(dataloader):\n",
        "            baz, outputs = model(images, features)\n",
        "            lossCE = loss_fn(outputs, digit_labels)\n",
        "            lossTr = triplet_loss(baz, domain_labels)\n",
        "            loss = lossCE + l * lossTr\n",
        "            _, preds = torch.max(outputs, 1)\n",
        "            running_corrects += torch.sum(preds == digit_labels)\n",
        "            running_lossCE += lossCE.item()\n",
        "            running_lossTr += lossTr.item()\n",
        "            running_loss += loss.item()\n",
        "    test_acc = (running_corrects / num_samples) * 100\n",
        "    test_lossCE = (running_lossCE / num_batches)\n",
        "    test_lossTr = (running_lossTr / num_batches)\n",
        "    test_loss = (running_loss / num_batches)\n",
        "    return test_acc, test_lossCE, test_lossTr, test_loss\n",
        "\n",
        "def example():\n",
        "    num_epochs = 10\n",
        "    full_dataloaders, _ = get_data_loaders(\n",
        "        filenames={\n",
        "            'train': './data/12000_train_mnistmnistmsvhnsynusps.npz',\n",
        "            'test': './data/12000_test_mnistmnistmsvhnsynusps.npz',\n",
        "        },\n",
        "        batch_size= 16\n",
        "\n",
        "    )\n",
        "    model = demo_model()\n",
        "    optimizer1 = torch.optim.SGD(model.parameters(), lr=0.025)\n",
        "    cross_entropy = nn.CrossEntropyLoss()\n",
        "    triplet_loss = tripletLoss(margin=0.005)\n",
        "    acc_history = {'train': [], 'test_missing': []}\n",
        "    lossCE_history = {'train': [], 'test_missing': []}\n",
        "    lossTr_history = {'train': [], 'test_missing': []}\n",
        "    loss_history = {'train': [], 'test_missing': []}\n",
        "    lam = 0.15\n",
        "    for epoch in trange(num_epochs):\n",
        "\n",
        "        train_acc, train_lossCE, train_lossTr, train_loss = train_one_epoch(model=model, optim=optimizer1, dataloader=full_dataloaders['train'] , loss_fn=cross_entropy,triplet_loss=triplet_loss , l=lam)\n",
        "        test_acc, test_lossCE, test_lossTr, test_loss = test_model(model=model, dataloader=full_dataloaders['test_missing'], loss_fn=cross_entropy, triplet_loss=triplet_loss, l=lam)\n",
        "\n",
        "        acc_history['train'].append(train_acc)\n",
        "        acc_history['test_missing'].append(test_acc)\n",
        "        lossCE_history['train'].append(train_lossCE)\n",
        "        lossCE_history['test_missing'].append(test_lossCE)\n",
        "        lossTr_history['train'].append(train_lossCE)\n",
        "        lossTr_history['test_missing'].append(test_lossTr)\n",
        "        loss_history['train'].append(train_loss)\n",
        "        loss_history['test_missing'].append(test_loss)\n",
        "    print(\"train lossCE: \")\n",
        "    print( str(lossCE_history['train']))\n",
        "\n",
        "    print(\"test lossCE: \")\n",
        "    print( str(lossCE_history['test_missing']))\n",
        "\n",
        "    print(\"train lossTr: \")\n",
        "    print( str(lossTr_history['train']))\n",
        "\n",
        "    print(\"test lossTr: \")\n",
        "    print( str(lossTr_history['test_missing']))\n",
        "\n",
        "    print(\"train loss: \")\n",
        "    print( str(loss_history['train']))\n",
        "\n",
        "    print(\"test loss: \")\n",
        "    print( str(loss_history['test_missing']))\n",
        "\n",
        "    print(\"train acc: \" )\n",
        "    print( str(acc_history['train']));\n",
        "\n",
        "    print(\"test_missing acc: \")\n",
        "    print( str(acc_history['test_missing']));\n",
        "    print(\"train acc: \" )\n",
        "    print( str(acc_history['train'][9]));\n",
        "    print(\"test_missing acc: \")\n",
        "    print( str(acc_history['test_missing'][9]));\n",
        "\n"
      ],
      "metadata": {
        "id": "KN-vxtNFbmTc"
      },
      "execution_count": 78,
      "outputs": []
    },
    {
      "cell_type": "markdown",
      "source": [
        "missing test with tripletloss"
      ],
      "metadata": {
        "id": "eLQL-NVjcTvp"
      }
    },
    {
      "cell_type": "code",
      "source": [
        "example()"
      ],
      "metadata": {
        "colab": {
          "base_uri": "https://localhost:8080/"
        },
        "id": "3NFDBwj9cK2b",
        "outputId": "dee238cd-1c2a-4777-bfc8-45c8c3826ce9"
      },
      "execution_count": 79,
      "outputs": [
        {
          "output_type": "stream",
          "name": "stdout",
          "text": [
            "datafiles to read:  {'train': './data/12000_train_mnistmnistmsvhnsynusps.npz', 'test': './data/12000_test_mnistmnistmsvhnsynusps.npz'}\n",
            "reading ./data/12000_train_mnistmnistmsvhnsynusps.npz, number of samples: 60000\n",
            "reading ./data/12000_test_mnistmnistmsvhnsynusps.npz, number of samples: 21600\n",
            "reading ./data/12000_test_mnistmnistmsvhnsynusps.npz, number of samples: 21600\n"
          ]
        },
        {
          "output_type": "stream",
          "name": "stderr",
          "text": [
            "100%|██████████| 10/10 [09:32<00:00, 57.24s/it]"
          ]
        },
        {
          "output_type": "stream",
          "name": "stdout",
          "text": [
            "train lossCE: \n",
            "[1.0589803278177976, 0.4345759602467219, 0.32834452702651423, 0.275621979758873, 0.23433392752980192, 0.21030805321576773, 0.18653698477834307, 0.1726385692025535, 0.15493893034441086, 0.14324768022616238]\n",
            "test lossCE: \n",
            "[1.3517456448961187, 1.094145066075855, 0.7345814278942567, 0.5940168085142418, 0.5729871585854778, 0.5694341432385974, 0.8423990062099916, 0.7706605457266171, 0.811243890899199, 0.6993465679111304]\n",
            "train lossTr: \n",
            "[1.0589803278177976, 0.4345759602467219, 0.32834452702651423, 0.275621979758873, 0.23433392752980192, 0.21030805321576773, 0.18653698477834307, 0.1726385692025535, 0.15493893034441086, 0.14324768022616238]\n",
            "test lossTr: \n",
            "[1.2101186387406455, 1.0899760530613087, 1.5298927722374598, 1.5771847848649378, 1.760671331308506, 1.8110353819308458, 1.5267393834888936, 1.8186213539816716, 1.6807218344123276, 1.5387080545340561]\n",
            "train loss: \n",
            "[1.2384346428751944, 0.5632468328873317, 0.42622380450591446, 0.3562187326374153, 0.30635662536981206, 0.27611612054724244, 0.24741741957418464, 0.2301215553950208, 0.20847977370798276, 0.195530824749001]\n",
            "test loss: \n",
            "[1.5332634491832169, 1.2576414797482667, 0.9640653535613307, 0.8305945363309648, 0.8370878676794193, 0.8410894621743096, 1.0714099231031207, 1.0434537587121682, 1.0633521784014173, 0.9301527854800224]\n",
            "train acc: \n",
            "[tensor(66.0800), tensor(86.1833), tensor(89.6033), tensor(91.3833), tensor(92.6433), tensor(93.3667), tensor(94.0850), tensor(94.3350), tensor(95.0767), tensor(95.3950)]\n",
            "test_missing acc: \n",
            "[tensor(61.9120), tensor(70.9398), tensor(80.4722), tensor(82.9305), tensor(83.7963), tensor(83.6759), tensor(76.3102), tensor(75.0926), tensor(75.6481), tensor(79.3611)]\n",
            "train acc: \n",
            "tensor(95.3950)\n",
            "test_missing acc: \n",
            "tensor(79.3611)\n"
          ]
        },
        {
          "output_type": "stream",
          "name": "stderr",
          "text": [
            "\n"
          ]
        }
      ]
    },
    {
      "cell_type": "markdown",
      "source": [
        "train with zero features"
      ],
      "metadata": {
        "id": "BBt29m_XVu5N"
      }
    },
    {
      "cell_type": "code",
      "source": [
        "from utils import custom_plot_training_stats\n",
        "from utils import get_data_loaders\n",
        "class demo_model(nn.Module):\n",
        "    def __init__(self) -> None:\n",
        "        super().__init__()\n",
        "\n",
        "        # define layers\n",
        "        # parameters are defined here\n",
        "        self.conv1 = nn.Conv2d(3, 6, 5, padding=2)\n",
        "        self.conv2 = nn.Conv2d(6, 16, 5)\n",
        "        self.fc1   = nn.Linear(16*6*6, 256)\n",
        "        self.fc2   = nn.Linear(512, 240)\n",
        "        self.fc3   = nn.Linear(240, 160)\n",
        "        self.fc4   = nn.Linear(160, 10)\n",
        "    # Forward Pass\n",
        "    def forward(self, images, features):\n",
        "\n",
        "        # 3 * 32 * 32\n",
        "        x = F.max_pool2d(F.relu(self.conv1(images)), (2, 2))\n",
        "        # 6 * 16 * 16\n",
        "        x = F.max_pool2d(F.relu(self.conv2(x)), (2, 2))\n",
        "        # 16 * 6 * 6\n",
        "        x = x.view(-1, self.num_flat_features(x))\n",
        "        # f1 without rlue\n",
        "        x = self.fc1(x)\n",
        "        x =  torch.cat((x, features), dim=1)\n",
        "        baz = F.relu(self.fc2(x))\n",
        "        x = F.relu(self.fc3(baz))\n",
        "        x = self.fc4(x)\n",
        "        return baz, x\n",
        "    def num_flat_features(self, x):\n",
        "        '''\n",
        "        Get the number of features in a batch of tensors `x`.\n",
        "        '''\n",
        "        size = x.size()[1:]\n",
        "        return np.prod(size)\n",
        "\n",
        "class tripletLoss(nn.Module):\n",
        "    def __init__(self, margin: float = 0.005, device = torch.device('cpu')) -> None:\n",
        "        super().__init__()\n",
        "\n",
        "        self.margin = torch.tensor(margin)\n",
        "        self.device = device\n",
        "\n",
        "\n",
        "    def forward(self, embeddings, labels):\n",
        "        dp, dn = self.batch_hard_triplet_loss(embeddings, labels)\n",
        "        triplet_loss = torch.mean(torch.clamp(dp - dn + self.margin, min=0))\n",
        "        return triplet_loss\n",
        "\n",
        "    def batch_hard_triplet_loss(self, embeddings, labels):\n",
        "\n",
        "\n",
        "        dists = self.euclidean_dist(embeddings, embeddings)\n",
        "        same_identity_mask = torch.eq(labels[:, None], labels[None, :])\n",
        "        negative_mask = torch.logical_not(same_identity_mask)\n",
        "        positive_mask = torch.logical_xor(same_identity_mask, torch.eye(labels.shape[0], dtype=torch.bool).to(self.device))\n",
        "        dp, _ = torch.max(dists * (positive_mask.int()), dim=1)\n",
        "        dn = torch.zeros_like(dp)\n",
        "        for i in range(dists.shape[0]):\n",
        "            dn[i] = torch.min(dists[i, :][negative_mask[i, :]])\n",
        "        return dp, dn\n",
        "\n",
        "    def all_diffs(self, a, b):\n",
        "        # a, b -> [N, d]\n",
        "        # return -> [N, N, d]\n",
        "        return a[:, None] - b[None, :]\n",
        "\n",
        "    def euclidean_dist(self, embed1, embed2):\n",
        "        diffs = self.all_diffs(embed1, embed2)\n",
        "        t1 = torch.square(diffs)\n",
        "        t2 = torch.sum(t1, dim=-1)\n",
        "        return torch.sqrt(t2 + 1e-12)\n",
        "\n",
        "def train_one_epoch(model: nn.Module, optim: torch.optim.Optimizer, dataloader: DataLoader, loss_fn, triplet_loss , l):\n",
        "\n",
        "    num_samples = len(dataloader.dataset)\n",
        "    num_batches = len(dataloader)\n",
        "    running_corrects = 0\n",
        "    running_loss = 0.0\n",
        "    running_lossCE = 0.0\n",
        "    running_lossTr = 0.0\n",
        "    model.train()\n",
        "    for batch_indx, (images, features, domain_labels, digit_labels) in enumerate(dataloader): # Get a batch of Data\n",
        "\n",
        "        baz,outputs = model(images, features) # Forward Pass, [N, 10]\n",
        "        lossCE = loss_fn(outputs, digit_labels) # Compute Loss\n",
        "        lossTr = triplet_loss(baz, domain_labels)\n",
        "        loss = lossCE + l * lossTr\n",
        "        loss.backward() # Compute Gradients\n",
        "        optim.step() # Update parameters\n",
        "        optim.zero_grad() # zero the parameter's gradients\n",
        "\n",
        "        _, preds = torch.max(outputs, dim=1) # Explain, [N]\n",
        "        running_corrects += torch.sum(preds == digit_labels)\n",
        "        running_loss += loss.item()\n",
        "        running_lossCE += lossCE.item()\n",
        "        running_lossTr += lossTr.item()\n",
        "\n",
        "    epoch_acc = (running_corrects / num_samples) * 100\n",
        "    epoch_lossCE = (running_lossCE / num_batches)\n",
        "    epoch_lossTr = (running_lossTr / num_batches)\n",
        "    epoch_loss = (running_loss / num_batches)\n",
        "\n",
        "    return epoch_acc, epoch_lossCE, epoch_lossTr, epoch_loss\n",
        "\n",
        "def test_model(model: nn.Module, dataloader: DataLoader, loss_fn, triplet_loss, l):\n",
        "    num_samples = len(dataloader.dataset)\n",
        "    num_batches = len(dataloader)\n",
        "    running_corrects = 0\n",
        "    running_loss = 0.0\n",
        "    running_lossCE = 0.0\n",
        "    running_lossTr = 0.0\n",
        "    model.eval()\n",
        "    with torch.no_grad():\n",
        "        for batch_indx, (images, features, domain_labels, digit_labels) in enumerate(dataloader):\n",
        "            baz, outputs = model(images, features)\n",
        "            lossCE = loss_fn(outputs, digit_labels)\n",
        "            lossTr = triplet_loss(baz, domain_labels)\n",
        "            loss = lossCE + l * lossTr\n",
        "            _, preds = torch.max(outputs, 1)\n",
        "            running_corrects += torch.sum(preds == digit_labels)\n",
        "            running_lossCE += lossCE.item()\n",
        "            running_lossTr += lossTr.item()\n",
        "            running_loss += loss.item()\n",
        "    test_acc = (running_corrects / num_samples) * 100\n",
        "    test_lossCE = (running_lossCE / num_batches)\n",
        "    test_lossTr = (running_lossTr / num_batches)\n",
        "    test_loss = (running_loss / num_batches)\n",
        "    return test_acc, test_lossCE, test_lossTr, test_loss\n",
        "\n",
        "def example():\n",
        "    num_epochs = 10\n",
        "    full_dataloaders, _ = get_data_loaders(\n",
        "        filenames={\n",
        "            'train': './data/12000_train_mnistmnistmsvhnsynusps.npz',\n",
        "            'test': './data/12000_test_mnistmnistmsvhnsynusps.npz',\n",
        "        },\n",
        "        batch_size= 16\n",
        "\n",
        "    )\n",
        "    model = demo_model()\n",
        "    optimizer1 = torch.optim.SGD(model.parameters(), lr=0.025)\n",
        "    cross_entropy = nn.CrossEntropyLoss()\n",
        "    triplet_loss = tripletLoss(margin=0.005)\n",
        "    acc_history = {'train': [], 'test': []}\n",
        "    lossCE_history = {'train': [], 'test': []}\n",
        "    lossTr_history = {'train': [], 'test': []}\n",
        "    loss_history = {'train': [], 'test': []}\n",
        "    l = 0.15\n",
        "    for epoch in trange(num_epochs):\n",
        "\n",
        "        train_acc, train_lossCE, train_lossTr, train_loss = train_one_epoch(model=model, optim=optimizer1, dataloader=full_dataloaders['train'] , loss_fn=cross_entropy,triplet_loss=triplet_loss , l=lam)\n",
        "        features = torch.zeros(16, 256)\n",
        "        train_acc, train_lossCE, train_lossTr, train_loss = train_one_epoch(model=model, optim=optimizer1, dataloader=full_dataloaders['train'] , loss_fn=cross_entropy,triplet_loss=triplet_loss , l=lam)\n",
        "        test_acc, test_lossCE, test_lossTr, test_loss = test_model(model=model, dataloader=full_dataloaders['test'], loss_fn=cross_entropy, triplet_loss=triplet_loss, l=lam)\n",
        "\n",
        "        acc_history['train'].append(train_acc)\n",
        "        acc_history['test'].append(test_acc)\n",
        "        lossCE_history['train'].append(train_lossCE)\n",
        "        lossCE_history['test'].append(test_lossCE)\n",
        "        lossTr_history['train'].append(train_lossCE)\n",
        "        lossTr_history['test'].append(test_lossTr)\n",
        "        loss_history['train'].append(train_loss)\n",
        "        loss_history['test'].append(test_loss)\n",
        "    print(\"train lossCE: \")\n",
        "    print( str(lossCE_history['train']))\n",
        "\n",
        "    print(\"test lossCE: \")\n",
        "    print( str(lossCE_history['test']))\n",
        "\n",
        "    print(\"train lossTr: \")\n",
        "    print( str(lossTr_history['train']))\n",
        "\n",
        "    print(\"test lossTr: \")\n",
        "    print( str(lossTr_history['test']))\n",
        "\n",
        "    print(\"train loss: \")\n",
        "    print( str(loss_history['train']))\n",
        "\n",
        "    print(\"test loss: \")\n",
        "    print( str(loss_history['test']))\n",
        "\n",
        "    print(\"train acc: \" )\n",
        "    print( str(acc_history['train']));\n",
        "\n",
        "    print(\"test acc: \")\n",
        "    print( str(acc_history['test']));\n",
        "    print(\"train acc: \" )\n",
        "    print( str(acc_history['train'][9]));\n",
        "    print(\"test acc: \")\n",
        "    print( str(acc_history['test'][9]));\n",
        "\n"
      ],
      "metadata": {
        "id": "e5ZpD72GG-gu"
      },
      "execution_count": 53,
      "outputs": []
    },
    {
      "cell_type": "markdown",
      "source": [
        "test with zeros"
      ],
      "metadata": {
        "id": "sDh_SK0Dc_lW"
      }
    },
    {
      "cell_type": "code",
      "source": [
        "example()"
      ],
      "metadata": {
        "colab": {
          "base_uri": "https://localhost:8080/"
        },
        "id": "XXbe3DxOLWqW",
        "outputId": "f629f925-c48b-4718-b2db-d04489134c5f"
      },
      "execution_count": 52,
      "outputs": [
        {
          "output_type": "stream",
          "name": "stdout",
          "text": [
            "datafiles to read:  {'train': './data/12000_train_mnistmnistmsvhnsynusps.npz', 'test': './data/12000_test_mnistmnistmsvhnsynusps.npz'}\n",
            "reading ./data/12000_train_mnistmnistmsvhnsynusps.npz, number of samples: 60000\n",
            "reading ./data/12000_test_mnistmnistmsvhnsynusps.npz, number of samples: 21600\n",
            "reading ./data/12000_test_mnistmnistmsvhnsynusps.npz, number of samples: 21600\n"
          ]
        },
        {
          "output_type": "stream",
          "name": "stderr",
          "text": [
            "100%|██████████| 10/10 [17:41<00:00, 106.13s/it]"
          ]
        },
        {
          "output_type": "stream",
          "name": "stdout",
          "text": [
            "train lossCE: \n",
            "[0.4335878298041721, 0.2751199563124838, 0.21260223288068858, 0.16846925438607577, 0.14169088047371672, 0.12534452150383732, 0.11036036863825284, 0.09395948179089755, 0.08214118222683295, 0.0827326539065419]\n",
            "test lossCE: \n",
            "[0.41099024840389137, 0.42960152614240843, 0.305468755804123, 0.32581006317925465, 0.3361802929564362, 0.3283260067534219, 0.32247834566533534, 0.3499727311626015, 0.3694595790494889, 0.34758358048601723]\n",
            "train lossTr: \n",
            "[0.4335878298041721, 0.2751199563124838, 0.21260223288068858, 0.16846925438607577, 0.14169088047371672, 0.12534452150383732, 0.11036036863825284, 0.09395948179089755, 0.08214118222683295, 0.0827326539065419]\n",
            "test lossTr: \n",
            "[0.8142022400749502, 0.6736859192194297, 0.6115242761470101, 0.5333272294073659, 0.5082881243688192, 0.5016633119341417, 0.502198865225849, 0.5688642729750697, 0.4521164764213393, 0.46350171621548253]\n",
            "train loss: \n",
            "[0.5626366531749566, 0.3561338508978486, 0.2778820087362081, 0.2255277131247955, 0.191383857945931, 0.17138620336258317, 0.15519080445464545, 0.1337192059892123, 0.12019505504140858, 0.12075173804110594]\n",
            "test loss: \n",
            "[0.5331205890438071, 0.5306544178779479, 0.397197400499049, 0.40580915097216214, 0.4124235153976069, 0.40357550590850966, 0.39780817878141533, 0.43530237526270665, 0.43727705285384283, 0.4171088404997998]\n",
            "train acc: \n",
            "[tensor(86.3633), tensor(91.2400), tensor(93.2617), tensor(94.5950), tensor(95.5283), tensor(95.9467), tensor(96.4283), tensor(96.9300), tensor(97.3183), tensor(97.2533)]\n",
            "test acc: \n",
            "[tensor(87.1574), tensor(86.5648), tensor(90.8148), tensor(90.5880), tensor(90.2917), tensor(90.8981), tensor(91.5324), tensor(90.9630), tensor(90.7546), tensor(91.6481)]\n",
            "train acc: \n",
            "tensor(97.2533)\n",
            "test acc: \n",
            "tensor(91.6481)\n"
          ]
        },
        {
          "output_type": "stream",
          "name": "stderr",
          "text": [
            "\n"
          ]
        }
      ]
    },
    {
      "cell_type": "code",
      "source": [
        "from utils import custom_plot_training_stats\n",
        "from utils import get_data_loaders\n",
        "class demo_model(nn.Module):\n",
        "    def __init__(self) -> None:\n",
        "        super().__init__()\n",
        "\n",
        "        # define layers\n",
        "        # parameters are defined here\n",
        "        self.conv1 = nn.Conv2d(3, 6, 5, padding=2)\n",
        "        self.conv2 = nn.Conv2d(6, 16, 5)\n",
        "        self.fc1   = nn.Linear(16*6*6, 256)\n",
        "        self.fc2   = nn.Linear(512, 240)\n",
        "        self.fc3   = nn.Linear(240, 160)\n",
        "        self.fc4   = nn.Linear(160, 10)\n",
        "    # Forward Pass\n",
        "    def forward(self, images, features):\n",
        "\n",
        "        # 3 * 32 * 32\n",
        "        x = F.max_pool2d(F.relu(self.conv1(images)), (2, 2))\n",
        "        # 6 * 16 * 16\n",
        "        x = F.max_pool2d(F.relu(self.conv2(x)), (2, 2))\n",
        "        # 16 * 6 * 6\n",
        "        x = x.view(-1, self.num_flat_features(x))\n",
        "        # f1 without rlue\n",
        "        x = self.fc1(x)\n",
        "        x =  torch.cat((x, features), dim=1)\n",
        "        baz = F.relu(self.fc2(x))\n",
        "        x = F.relu(self.fc3(baz))\n",
        "        x = self.fc4(x)\n",
        "        return baz, x\n",
        "    def num_flat_features(self, x):\n",
        "        '''\n",
        "        Get the number of features in a batch of tensors `x`.\n",
        "        '''\n",
        "        size = x.size()[1:]\n",
        "        return np.prod(size)\n",
        "\n",
        "class tripletLoss(nn.Module):\n",
        "    def __init__(self, margin: float = 0.005, device = torch.device('cpu')) -> None:\n",
        "        super().__init__()\n",
        "\n",
        "        self.margin = torch.tensor(margin)\n",
        "        self.device = device\n",
        "\n",
        "\n",
        "    def forward(self, embeddings, labels):\n",
        "        dp, dn = self.batch_hard_triplet_loss(embeddings, labels)\n",
        "        triplet_loss = torch.mean(torch.clamp(dp - dn + self.margin, min=0))\n",
        "        return triplet_loss\n",
        "\n",
        "    def batch_hard_triplet_loss(self, embeddings, labels):\n",
        "\n",
        "\n",
        "        dists = self.euclidean_dist(embeddings, embeddings)\n",
        "        same_identity_mask = torch.eq(labels[:, None], labels[None, :])\n",
        "        negative_mask = torch.logical_not(same_identity_mask)\n",
        "        positive_mask = torch.logical_xor(same_identity_mask, torch.eye(labels.shape[0], dtype=torch.bool).to(self.device))\n",
        "        dp, _ = torch.max(dists * (positive_mask.int()), dim=1)\n",
        "        dn = torch.zeros_like(dp)\n",
        "        for i in range(dists.shape[0]):\n",
        "            dn[i] = torch.min(dists[i, :][negative_mask[i, :]])\n",
        "        return dp, dn\n",
        "\n",
        "    def all_diffs(self, a, b):\n",
        "        # a, b -> [N, d]\n",
        "        # return -> [N, N, d]\n",
        "        return a[:, None] - b[None, :]\n",
        "\n",
        "    def euclidean_dist(self, embed1, embed2):\n",
        "        diffs = self.all_diffs(embed1, embed2)\n",
        "        t1 = torch.square(diffs)\n",
        "        t2 = torch.sum(t1, dim=-1)\n",
        "        return torch.sqrt(t2 + 1e-12)\n",
        "\n",
        "def train_one_epoch(model: nn.Module, optim: torch.optim.Optimizer, dataloader: DataLoader, loss_fn, triplet_loss , l):\n",
        "\n",
        "    num_samples = len(dataloader.dataset)\n",
        "    num_batches = len(dataloader)\n",
        "    running_corrects = 0\n",
        "    running_loss = 0.0\n",
        "    running_lossCE = 0.0\n",
        "    running_lossTr = 0.0\n",
        "    model.train()\n",
        "    for batch_indx, (images, features, domain_labels, digit_labels) in enumerate(dataloader): # Get a batch of Data\n",
        "\n",
        "        baz,outputs = model(images, features) # Forward Pass, [N, 10]\n",
        "        lossCE = loss_fn(outputs, digit_labels) # Compute Loss\n",
        "        lossTr = triplet_loss(baz, domain_labels)\n",
        "        loss = lossCE + l * lossTr\n",
        "        loss.backward() # Compute Gradients\n",
        "        optim.step() # Update parameters\n",
        "        optim.zero_grad() # zero the parameter's gradients\n",
        "\n",
        "        _, preds = torch.max(outputs, dim=1) # Explain, [N]\n",
        "        running_corrects += torch.sum(preds == digit_labels)\n",
        "        running_loss += loss.item()\n",
        "        running_lossCE += lossCE.item()\n",
        "        running_lossTr += lossTr.item()\n",
        "\n",
        "    epoch_acc = (running_corrects / num_samples) * 100\n",
        "    epoch_lossCE = (running_lossCE / num_batches)\n",
        "    epoch_lossTr = (running_lossTr / num_batches)\n",
        "    epoch_loss = (running_loss / num_batches)\n",
        "\n",
        "    return epoch_acc, epoch_lossCE, epoch_lossTr, epoch_loss\n",
        "\n",
        "def test_model(model: nn.Module, dataloader: DataLoader, loss_fn, triplet_loss, l):\n",
        "    num_samples = len(dataloader.dataset)\n",
        "    num_batches = len(dataloader)\n",
        "    running_corrects = 0\n",
        "    running_loss = 0.0\n",
        "    running_lossCE = 0.0\n",
        "    running_lossTr = 0.0\n",
        "    model.eval()\n",
        "    with torch.no_grad():\n",
        "        for batch_indx, (images, features, domain_labels, digit_labels) in enumerate(dataloader):\n",
        "            baz, outputs = model(images, features)\n",
        "            lossCE = loss_fn(outputs, digit_labels)\n",
        "            lossTr = triplet_loss(baz, domain_labels)\n",
        "            loss = lossCE + l * lossTr\n",
        "            _, preds = torch.max(outputs, 1)\n",
        "            running_corrects += torch.sum(preds == digit_labels)\n",
        "            running_lossCE += lossCE.item()\n",
        "            running_lossTr += lossTr.item()\n",
        "            running_loss += loss.item()\n",
        "    test_acc = (running_corrects / num_samples) * 100\n",
        "    test_lossCE = (running_lossCE / num_batches)\n",
        "    test_lossTr = (running_lossTr / num_batches)\n",
        "    test_loss = (running_loss / num_batches)\n",
        "    return test_acc, test_lossCE, test_lossTr, test_loss\n",
        "\n",
        "def example():\n",
        "    num_epochs = 10\n",
        "    full_dataloaders, _ = get_data_loaders(\n",
        "        filenames={\n",
        "            'train': './data/12000_train_mnistmnistmsvhnsynusps.npz',\n",
        "            'test': './data/12000_test_mnistmnistmsvhnsynusps.npz',\n",
        "        },\n",
        "        batch_size= 16\n",
        "\n",
        "    )\n",
        "    model = demo_model()\n",
        "    optimizer1 = torch.optim.SGD(model.parameters(), lr=0.025)\n",
        "    cross_entropy = nn.CrossEntropyLoss()\n",
        "    triplet_loss = tripletLoss(margin=0.005)\n",
        "    acc_history = {'train': [], 'test_missing': []}\n",
        "    lossCE_history = {'train': [], 'test_missing': []}\n",
        "    lossTr_history = {'train': [], 'test_missing': []}\n",
        "    loss_history = {'train': [], 'test_missing': []}\n",
        "    lam = 0.15\n",
        "    for epoch in trange(num_epochs):\n",
        "\n",
        "        train_acc, train_lossCE, train_lossTr, train_loss = train_one_epoch(model=model, optim=optimizer1, dataloader=full_dataloaders['train'] , loss_fn=cross_entropy,triplet_loss=triplet_loss , l=lam)\n",
        "        features = torch.zeros(16, 256)\n",
        "        train_acc, train_lossCE, train_lossTr, train_loss = train_one_epoch(model=model, optim=optimizer1, dataloader=full_dataloaders['train'] , loss_fn=cross_entropy,triplet_loss=triplet_loss , l=lam)\n",
        "        test_acc, test_lossCE, test_lossTr, test_loss = test_model(model=model, dataloader=full_dataloaders['test_missing'], loss_fn=cross_entropy, triplet_loss=triplet_loss, l=lam)\n",
        "\n",
        "        acc_history['train'].append(train_acc)\n",
        "        acc_history['test_missing'].append(test_acc)\n",
        "        lossCE_history['train'].append(train_lossCE)\n",
        "        lossCE_history['test_missing'].append(test_lossCE)\n",
        "        lossTr_history['train'].append(train_lossCE)\n",
        "        lossTr_history['test_missing'].append(test_lossTr)\n",
        "        loss_history['train'].append(train_loss)\n",
        "        loss_history['test_missing'].append(test_loss)\n",
        "    print(\"train lossCE: \")\n",
        "    print( str(lossCE_history['train']))\n",
        "\n",
        "    print(\"test lossCE: \")\n",
        "    print( str(lossCE_history['test_missing']))\n",
        "\n",
        "    print(\"train lossTr: \")\n",
        "    print( str(lossTr_history['train']))\n",
        "\n",
        "    print(\"test lossTr: \")\n",
        "    print( str(lossTr_history['test_missing']))\n",
        "\n",
        "    print(\"train loss: \")\n",
        "    print( str(loss_history['train']))\n",
        "\n",
        "    print(\"test loss: \")\n",
        "    print( str(loss_history['test_missing']))\n",
        "\n",
        "    print(\"train acc: \" )\n",
        "    print( str(acc_history['train']));\n",
        "\n",
        "    print(\"test_missing acc: \")\n",
        "    print( str(acc_history['test_missing']));\n",
        "    print(\"train acc: \" )\n",
        "    print( str(acc_history['train'][9]));\n",
        "    print(\"test_missing acc: \")\n",
        "    print( str(acc_history['test_missing'][9]));\n",
        "\n"
      ],
      "metadata": {
        "id": "XIBE39kNV54H"
      },
      "execution_count": 66,
      "outputs": []
    },
    {
      "cell_type": "markdown",
      "source": [
        "missing test with zeros"
      ],
      "metadata": {
        "id": "YAWyj27RdDI4"
      }
    },
    {
      "cell_type": "code",
      "source": [
        "example()"
      ],
      "metadata": {
        "colab": {
          "base_uri": "https://localhost:8080/"
        },
        "id": "mUm3oqfZXF3W",
        "outputId": "fe8db3b6-14a6-4987-a125-1517591c8ccd"
      },
      "execution_count": 67,
      "outputs": [
        {
          "output_type": "stream",
          "name": "stdout",
          "text": [
            "datafiles to read:  {'train': './data/12000_train_mnistmnistmsvhnsynusps.npz', 'test': './data/12000_test_mnistmnistmsvhnsynusps.npz'}\n",
            "reading ./data/12000_train_mnistmnistmsvhnsynusps.npz, number of samples: 60000\n",
            "reading ./data/12000_test_mnistmnistmsvhnsynusps.npz, number of samples: 21600\n",
            "reading ./data/12000_test_mnistmnistmsvhnsynusps.npz, number of samples: 21600\n"
          ]
        },
        {
          "output_type": "stream",
          "name": "stderr",
          "text": [
            "100%|██████████| 10/10 [17:36<00:00, 105.67s/it]"
          ]
        },
        {
          "output_type": "stream",
          "name": "stdout",
          "text": [
            "train lossCE: \n",
            "[0.4335878298041721, 0.2751199563124838, 0.21260223288068858, 0.16846925438607577, 0.14169088047371672, 0.12534452150383732, 0.11036036863825284, 0.09395948179089755, 0.08214118222683295, 0.0827326539065419]\n",
            "test lossCE: \n",
            "[1.0435166542176848, 0.7743161127854277, 0.6687153458926413, 0.7295334431970562, 0.810294579245426, 0.816268084137528, 0.6336340980949225, 0.7136177354305983, 0.6592846162672396, 0.7310517428649796]\n",
            "train lossTr: \n",
            "[0.4335878298041721, 0.2751199563124838, 0.21260223288068858, 0.16846925438607577, 0.14169088047371672, 0.12534452150383732, 0.11036036863825284, 0.09395948179089755, 0.08214118222683295, 0.0827326539065419]\n",
            "test lossTr: \n",
            "[1.1025203998883566, 1.5629125322235955, 1.8593020068053847, 1.8034039255204024, 2.045182350791163, 1.8580564010364038, 1.9025481067763435, 2.4094514788411283, 2.0917172408545457, 2.0464019569644223]\n",
            "train loss: \n",
            "[0.5626366531749566, 0.3561338508978486, 0.2778820087362081, 0.2255277131247955, 0.191383857945931, 0.17138620336258317, 0.15519080445464545, 0.1337192059892123, 0.12019505504140858, 0.12075173804110594]\n",
            "test loss: \n",
            "[1.2088947208722431, 1.0087530029482312, 0.9476106589370303, 1.0000440427329804, 1.117071945115372, 1.0949765557271463, 0.9190163255620886, 1.0750354726005484, 0.9730422150095304, 1.0380120480502093]\n",
            "train acc: \n",
            "[tensor(86.3633), tensor(91.2400), tensor(93.2617), tensor(94.5950), tensor(95.5283), tensor(95.9467), tensor(96.4283), tensor(96.9300), tensor(97.3183), tensor(97.2533)]\n",
            "test_missing acc: \n",
            "[tensor(73.5926), tensor(78.3657), tensor(80.1620), tensor(77.7315), tensor(74.2963), tensor(72.0926), tensor(80.9815), tensor(77.4907), tensor(80.3750), tensor(77.0370)]\n",
            "train acc: \n",
            "tensor(97.2533)\n",
            "test_missing acc: \n",
            "tensor(77.0370)\n"
          ]
        },
        {
          "output_type": "stream",
          "name": "stderr",
          "text": [
            "\n"
          ]
        }
      ]
    },
    {
      "cell_type": "markdown",
      "source": [
        "prediction of features"
      ],
      "metadata": {
        "id": "hdI7iliNg5fG"
      }
    },
    {
      "cell_type": "code",
      "source": [
        "class features_model(nn.Module):\n",
        "       def __init__(self) -> None:\n",
        "         super().__init__()\n",
        "         self.conv1 = nn.Conv2d(3, 6, 5, padding=2)\n",
        "         self.conv2 = nn.Conv2d(6, 16, 5)\n",
        "         self.fc1   = nn.Linear(16*6*6, 256)\n",
        "       def forward(self, images):\n",
        "            x = F.max_pool2d(F.relu(self.conv1(images)), (2, 2))\n",
        "            x = F.max_pool2d(F.relu(self.conv2(x)), (2, 2))\n",
        "            x = x.view(-1, self.num_flat_features(x))\n",
        "            x = self.fc1(x)\n",
        "\n",
        "            return x\n",
        "       def num_flat_features(self, x):\n",
        "\n",
        "            size = x.size()[1:]\n",
        "            return np.prod(size)\n",
        "\n",
        "def train_one_epoch(model: nn.Module, optim: torch.optim.Optimizer, dataloader: DataLoader, loss_fn):\n",
        "    num_samples = len(dataloader.dataset)\n",
        "    num_batches = len(dataloader)\n",
        "    running_corrects = 0\n",
        "    running_loss = 0.0\n",
        "    model.train() #\n",
        "    for batch_indx, (images, features, domain_labels, digit_labels) in enumerate(dataloader): # Get a batch of Data\n",
        "\n",
        "        outputs = model(images)\n",
        "        loss = loss_fn(outputs, features) # Compute Loss\n",
        "        loss.backward() # Compute Gradients\n",
        "        optim.step() # Update parameters\n",
        "        optim.zero_grad() # zero the parameter's gradients\n",
        "        running_corrects += torch.sum(outputs == features)\n",
        "        running_loss += loss.item()\n",
        "    epoch_acc = (running_corrects / num_samples) * 100\n",
        "    epoch_loss = (running_loss / num_batches)\n",
        "    return epoch_acc, epoch_loss\n",
        "\n",
        "def test_model(model: nn.Module, dataloader: DataLoader, loss_fn):\n",
        "    num_samples = len(dataloader.dataset)\n",
        "    num_batches = len(dataloader)\n",
        "    running_corrects = 0\n",
        "    running_loss = 0.0\n",
        "    model.eval()\n",
        "    with torch.no_grad():\n",
        "        for batch_indx, (images, features, domain_labels, digit_labels) in enumerate(dataloader):\n",
        "            outputs = model(images)\n",
        "\n",
        "            loss = loss_fn(outputs, digit_labels)\n",
        "            running_corrects += torch.sum(outputs ==  features)\n",
        "            running_loss += loss.item()\n",
        "    test_acc = (running_corrects / num_samples) * 100\n",
        "    test_loss = (running_loss / num_batches)\n",
        "    return test_acc, test_loss\n",
        "\n",
        "from utils import custom_plot_training_stats\n",
        "from utils import get_data_loaders\n",
        "\n",
        "def features_prediction():\n",
        "    num_epochs = 10\n",
        "    full_dataloaders, _ = get_data_loaders(\n",
        "        filenames={\n",
        "            'train': './data/12000_train_mnistmnistmsvhnsynusps.npz',\n",
        "            'test': './data/12000_test_mnistmnistmsvhnsynusps.npz',\n",
        "        },\n",
        "        batch_size= 16\n",
        "\n",
        "    )\n",
        "    print(full_dataloaders.keys())\n",
        "    model = features_model()\n",
        "    optimizer1 = torch.optim.SGD(model.parameters(), lr=0.025)\n",
        "    cross_entropy = nn.CrossEntropyLoss()\n",
        "    acc_history = {'train': [], 'test': []}\n",
        "    loss_history = {'train': [], 'test': []}\n",
        "    for epoch in trange(num_epochs):\n",
        "\n",
        "       train_acc, train_loss = train_one_epoch(model=model, optim=optimizer1, dataloader=full_dataloaders['train'] , loss_fn=cross_entropy)\n",
        "       test_acc, test_loss = test_model(model=model, dataloader=full_dataloaders['test'], loss_fn=cross_entropy)\n",
        "\n",
        "       acc_history['train'].append(train_acc)\n",
        "       acc_history['test'].append(test_acc)\n",
        "       loss_history['train'].append(train_loss)\n",
        "       loss_history['test'].append(test_loss)\n",
        "    print(\"train loss: \" )\n",
        "    print( str(loss_history['train']));\n",
        "    print(\"test loss: \")\n",
        "    print( str(loss_history['test']));\n",
        "    custom_plot_training_stats(acc_history, loss_history, ['train', 'test'], title='demp', dir='demo_plots')"
      ],
      "metadata": {
        "id": "Nq74tOVzlz1i"
      },
      "execution_count": 80,
      "outputs": []
    },
    {
      "cell_type": "code",
      "source": [
        "features_prediction()"
      ],
      "metadata": {
        "colab": {
          "base_uri": "https://localhost:8080/"
        },
        "id": "XftE6SwWnk_H",
        "outputId": "dc467531-d5f6-40a2-aece-5a7b9d061d11"
      },
      "execution_count": null,
      "outputs": [
        {
          "output_type": "stream",
          "name": "stderr",
          "text": [
            "ERROR:root:Internal Python error in the inspect module.\n",
            "Below is the traceback from this internal error.\n",
            "\n",
            "ERROR:root:Internal Python error in the inspect module.\n",
            "Below is the traceback from this internal error.\n",
            "\n",
            "ERROR:root:Internal Python error in the inspect module.\n",
            "Below is the traceback from this internal error.\n",
            "\n"
          ]
        },
        {
          "output_type": "stream",
          "name": "stdout",
          "text": [
            "datafiles to read:  {'train': './data/12000_train_mnistmnistmsvhnsynusps.npz', 'test': './data/12000_test_mnistmnistmsvhnsynusps.npz'}\n",
            "Traceback (most recent call last):\n",
            "  File \"/usr/local/lib/python3.10/dist-packages/IPython/core/interactiveshell.py\", line 3553, in run_code\n",
            "    exec(code_obj, self.user_global_ns, self.user_ns)\n",
            "  File \"<ipython-input-81-44e794642a38>\", line 1, in <cell line: 1>\n",
            "    features_prediction()\n",
            "  File \"<ipython-input-80-b61d978ae680>\", line 60, in features_prediction\n",
            "    full_dataloaders, _ = get_data_loaders(\n",
            "  File \"/content/drive/.shortcut-targets-by-id/1olR9djsPqRY8dxn01k2qeMnqfOfqWRQE/phase4 public/utils.py\", line 39, in get_data_loaders\n",
            "    imgs, digit_labels, domain_labels, features, num_domains = load_ds(filenames[phase], phase)\n",
            "  File \"/content/drive/.shortcut-targets-by-id/1olR9djsPqRY8dxn01k2qeMnqfOfqWRQE/phase4 public/utils.py\", line 77, in load_ds\n",
            "    data = np.load(f'{filename}')\n",
            "  File \"/usr/local/lib/python3.10/dist-packages/numpy/lib/npyio.py\", line 407, in load\n",
            "    fid = stack.enter_context(open(os_fspath(file), \"rb\"))\n",
            "OSError: [Errno 107] Transport endpoint is not connected: './data/12000_train_mnistmnistmsvhnsynusps.npz'\n",
            "\n",
            "During handling of the above exception, another exception occurred:\n",
            "\n",
            "Traceback (most recent call last):\n",
            "  File \"/usr/local/lib/python3.10/dist-packages/IPython/core/interactiveshell.py\", line 2099, in showtraceback\n",
            "    stb = value._render_traceback_()\n",
            "AttributeError: 'OSError' object has no attribute '_render_traceback_'\n",
            "\n",
            "During handling of the above exception, another exception occurred:\n",
            "\n",
            "Traceback (most recent call last):\n",
            "  File \"/usr/local/lib/python3.10/dist-packages/IPython/core/ultratb.py\", line 1101, in get_records\n",
            "    return _fixed_getinnerframes(etb, number_of_lines_of_context, tb_offset)\n",
            "  File \"/usr/local/lib/python3.10/dist-packages/IPython/core/ultratb.py\", line 248, in wrapped\n",
            "    return f(*args, **kwargs)\n",
            "  File \"/usr/local/lib/python3.10/dist-packages/IPython/core/ultratb.py\", line 281, in _fixed_getinnerframes\n",
            "    records = fix_frame_records_filenames(inspect.getinnerframes(etb, context))\n",
            "  File \"/usr/lib/python3.10/inspect.py\", line 1662, in getinnerframes\n",
            "    frameinfo = (tb.tb_frame,) + getframeinfo(tb, context)\n",
            "  File \"/usr/lib/python3.10/inspect.py\", line 1620, in getframeinfo\n",
            "    filename = getsourcefile(frame) or getfile(frame)\n",
            "  File \"/usr/lib/python3.10/inspect.py\", line 829, in getsourcefile\n",
            "    module = getmodule(object, filename)\n",
            "  File \"/usr/lib/python3.10/inspect.py\", line 861, in getmodule\n",
            "    file = getabsfile(object, _filename)\n",
            "  File \"/usr/lib/python3.10/inspect.py\", line 845, in getabsfile\n",
            "    return os.path.normcase(os.path.abspath(_filename))\n",
            "  File \"/usr/lib/python3.10/posixpath.py\", line 384, in abspath\n",
            "    cwd = os.getcwd()\n",
            "OSError: [Errno 107] Transport endpoint is not connected\n",
            "Traceback (most recent call last):\n",
            "  File \"/usr/local/lib/python3.10/dist-packages/IPython/core/interactiveshell.py\", line 3553, in run_code\n",
            "    exec(code_obj, self.user_global_ns, self.user_ns)\n",
            "  File \"<ipython-input-81-44e794642a38>\", line 1, in <cell line: 1>\n",
            "    features_prediction()\n",
            "  File \"<ipython-input-80-b61d978ae680>\", line 60, in features_prediction\n",
            "    full_dataloaders, _ = get_data_loaders(\n",
            "  File \"/content/drive/.shortcut-targets-by-id/1olR9djsPqRY8dxn01k2qeMnqfOfqWRQE/phase4 public/utils.py\", line 39, in get_data_loaders\n",
            "    imgs, digit_labels, domain_labels, features, num_domains = load_ds(filenames[phase], phase)\n",
            "  File \"/content/drive/.shortcut-targets-by-id/1olR9djsPqRY8dxn01k2qeMnqfOfqWRQE/phase4 public/utils.py\", line 77, in load_ds\n",
            "    data = np.load(f'{filename}')\n",
            "  File \"/usr/local/lib/python3.10/dist-packages/numpy/lib/npyio.py\", line 407, in load\n",
            "    fid = stack.enter_context(open(os_fspath(file), \"rb\"))\n",
            "OSError: [Errno 107] Transport endpoint is not connected: './data/12000_train_mnistmnistmsvhnsynusps.npz'\n",
            "\n",
            "During handling of the above exception, another exception occurred:\n",
            "\n",
            "Traceback (most recent call last):\n",
            "  File \"/usr/local/lib/python3.10/dist-packages/IPython/core/interactiveshell.py\", line 2099, in showtraceback\n",
            "    stb = value._render_traceback_()\n",
            "AttributeError: 'OSError' object has no attribute '_render_traceback_'\n",
            "\n",
            "During handling of the above exception, another exception occurred:\n",
            "\n",
            "Traceback (most recent call last):\n",
            "  File \"/usr/local/lib/python3.10/dist-packages/IPython/core/interactiveshell.py\", line 3473, in run_ast_nodes\n",
            "    if (await self.run_code(code, result,  async_=asy)):\n",
            "  File \"/usr/local/lib/python3.10/dist-packages/IPython/core/interactiveshell.py\", line 3575, in run_code\n",
            "    self.showtraceback(running_compiled_code=True)\n",
            "  File \"/usr/local/lib/python3.10/dist-packages/IPython/core/interactiveshell.py\", line 2101, in showtraceback\n",
            "    stb = self.InteractiveTB.structured_traceback(etype,\n",
            "  File \"/usr/local/lib/python3.10/dist-packages/IPython/core/ultratb.py\", line 1367, in structured_traceback\n",
            "    return FormattedTB.structured_traceback(\n",
            "  File \"/usr/local/lib/python3.10/dist-packages/IPython/core/ultratb.py\", line 1267, in structured_traceback\n",
            "    return VerboseTB.structured_traceback(\n",
            "  File \"/usr/local/lib/python3.10/dist-packages/IPython/core/ultratb.py\", line 1124, in structured_traceback\n",
            "    formatted_exception = self.format_exception_as_a_whole(etype, evalue, etb, number_of_lines_of_context,\n",
            "  File \"/usr/local/lib/python3.10/dist-packages/IPython/core/ultratb.py\", line 1082, in format_exception_as_a_whole\n",
            "    last_unique, recursion_repeat = find_recursion(orig_etype, evalue, records)\n",
            "  File \"/usr/local/lib/python3.10/dist-packages/IPython/core/ultratb.py\", line 382, in find_recursion\n",
            "    return len(records), 0\n",
            "TypeError: object of type 'NoneType' has no len()\n",
            "\n",
            "During handling of the above exception, another exception occurred:\n",
            "\n",
            "Traceback (most recent call last):\n",
            "  File \"/usr/local/lib/python3.10/dist-packages/IPython/core/interactiveshell.py\", line 2099, in showtraceback\n",
            "    stb = value._render_traceback_()\n",
            "AttributeError: 'TypeError' object has no attribute '_render_traceback_'\n",
            "\n",
            "During handling of the above exception, another exception occurred:\n",
            "\n",
            "Traceback (most recent call last):\n",
            "  File \"/usr/local/lib/python3.10/dist-packages/IPython/core/ultratb.py\", line 1101, in get_records\n",
            "    return _fixed_getinnerframes(etb, number_of_lines_of_context, tb_offset)\n",
            "  File \"/usr/local/lib/python3.10/dist-packages/IPython/core/ultratb.py\", line 248, in wrapped\n",
            "    return f(*args, **kwargs)\n",
            "  File \"/usr/local/lib/python3.10/dist-packages/IPython/core/ultratb.py\", line 281, in _fixed_getinnerframes\n",
            "    records = fix_frame_records_filenames(inspect.getinnerframes(etb, context))\n",
            "  File \"/usr/lib/python3.10/inspect.py\", line 1662, in getinnerframes\n",
            "    frameinfo = (tb.tb_frame,) + getframeinfo(tb, context)\n",
            "  File \"/usr/lib/python3.10/inspect.py\", line 1620, in getframeinfo\n",
            "    filename = getsourcefile(frame) or getfile(frame)\n",
            "  File \"/usr/lib/python3.10/inspect.py\", line 829, in getsourcefile\n",
            "    module = getmodule(object, filename)\n",
            "  File \"/usr/lib/python3.10/inspect.py\", line 861, in getmodule\n",
            "    file = getabsfile(object, _filename)\n",
            "  File \"/usr/lib/python3.10/inspect.py\", line 845, in getabsfile\n",
            "    return os.path.normcase(os.path.abspath(_filename))\n",
            "  File \"/usr/lib/python3.10/posixpath.py\", line 384, in abspath\n",
            "    cwd = os.getcwd()\n",
            "OSError: [Errno 107] Transport endpoint is not connected\n",
            "Traceback (most recent call last):\n",
            "  File \"/usr/local/lib/python3.10/dist-packages/IPython/core/interactiveshell.py\", line 3553, in run_code\n",
            "    exec(code_obj, self.user_global_ns, self.user_ns)\n",
            "  File \"<ipython-input-81-44e794642a38>\", line 1, in <cell line: 1>\n",
            "    features_prediction()\n",
            "  File \"<ipython-input-80-b61d978ae680>\", line 60, in features_prediction\n",
            "    full_dataloaders, _ = get_data_loaders(\n",
            "  File \"/content/drive/.shortcut-targets-by-id/1olR9djsPqRY8dxn01k2qeMnqfOfqWRQE/phase4 public/utils.py\", line 39, in get_data_loaders\n",
            "    imgs, digit_labels, domain_labels, features, num_domains = load_ds(filenames[phase], phase)\n",
            "  File \"/content/drive/.shortcut-targets-by-id/1olR9djsPqRY8dxn01k2qeMnqfOfqWRQE/phase4 public/utils.py\", line 77, in load_ds\n",
            "    data = np.load(f'{filename}')\n",
            "  File \"/usr/local/lib/python3.10/dist-packages/numpy/lib/npyio.py\", line 407, in load\n",
            "    fid = stack.enter_context(open(os_fspath(file), \"rb\"))\n",
            "OSError: [Errno 107] Transport endpoint is not connected: './data/12000_train_mnistmnistmsvhnsynusps.npz'\n",
            "\n",
            "During handling of the above exception, another exception occurred:\n",
            "\n",
            "Traceback (most recent call last):\n",
            "  File \"/usr/local/lib/python3.10/dist-packages/IPython/core/interactiveshell.py\", line 2099, in showtraceback\n",
            "    stb = value._render_traceback_()\n",
            "AttributeError: 'OSError' object has no attribute '_render_traceback_'\n",
            "\n",
            "During handling of the above exception, another exception occurred:\n",
            "\n",
            "Traceback (most recent call last):\n",
            "  File \"/usr/local/lib/python3.10/dist-packages/IPython/core/interactiveshell.py\", line 3473, in run_ast_nodes\n",
            "    if (await self.run_code(code, result,  async_=asy)):\n",
            "  File \"/usr/local/lib/python3.10/dist-packages/IPython/core/interactiveshell.py\", line 3575, in run_code\n",
            "    self.showtraceback(running_compiled_code=True)\n",
            "  File \"/usr/local/lib/python3.10/dist-packages/IPython/core/interactiveshell.py\", line 2101, in showtraceback\n",
            "    stb = self.InteractiveTB.structured_traceback(etype,\n",
            "  File \"/usr/local/lib/python3.10/dist-packages/IPython/core/ultratb.py\", line 1367, in structured_traceback\n",
            "    return FormattedTB.structured_traceback(\n",
            "  File \"/usr/local/lib/python3.10/dist-packages/IPython/core/ultratb.py\", line 1267, in structured_traceback\n",
            "    return VerboseTB.structured_traceback(\n",
            "  File \"/usr/local/lib/python3.10/dist-packages/IPython/core/ultratb.py\", line 1124, in structured_traceback\n",
            "    formatted_exception = self.format_exception_as_a_whole(etype, evalue, etb, number_of_lines_of_context,\n",
            "  File \"/usr/local/lib/python3.10/dist-packages/IPython/core/ultratb.py\", line 1082, in format_exception_as_a_whole\n",
            "    last_unique, recursion_repeat = find_recursion(orig_etype, evalue, records)\n",
            "  File \"/usr/local/lib/python3.10/dist-packages/IPython/core/ultratb.py\", line 382, in find_recursion\n",
            "    return len(records), 0\n",
            "TypeError: object of type 'NoneType' has no len()\n",
            "\n",
            "During handling of the above exception, another exception occurred:\n",
            "\n",
            "Traceback (most recent call last):\n",
            "  File \"/usr/local/lib/python3.10/dist-packages/IPython/core/interactiveshell.py\", line 2099, in showtraceback\n",
            "    stb = value._render_traceback_()\n",
            "AttributeError: 'TypeError' object has no attribute '_render_traceback_'\n",
            "\n",
            "During handling of the above exception, another exception occurred:\n",
            "\n",
            "Traceback (most recent call last):\n",
            "  File \"/usr/local/lib/python3.10/dist-packages/IPython/core/interactiveshell.py\", line 3030, in _run_cell\n",
            "    return runner(coro)\n",
            "  File \"/usr/local/lib/python3.10/dist-packages/IPython/core/async_helpers.py\", line 78, in _pseudo_sync_runner\n",
            "    coro.send(None)\n",
            "  File \"/usr/local/lib/python3.10/dist-packages/IPython/core/interactiveshell.py\", line 3257, in run_cell_async\n",
            "    has_raised = await self.run_ast_nodes(code_ast.body, cell_name,\n",
            "  File \"/usr/local/lib/python3.10/dist-packages/IPython/core/interactiveshell.py\", line 3492, in run_ast_nodes\n",
            "    self.showtraceback()\n",
            "  File \"/usr/local/lib/python3.10/dist-packages/IPython/core/interactiveshell.py\", line 2101, in showtraceback\n",
            "    stb = self.InteractiveTB.structured_traceback(etype,\n",
            "  File \"/usr/local/lib/python3.10/dist-packages/IPython/core/ultratb.py\", line 1367, in structured_traceback\n",
            "    return FormattedTB.structured_traceback(\n",
            "  File \"/usr/local/lib/python3.10/dist-packages/IPython/core/ultratb.py\", line 1267, in structured_traceback\n",
            "    return VerboseTB.structured_traceback(\n",
            "  File \"/usr/local/lib/python3.10/dist-packages/IPython/core/ultratb.py\", line 1142, in structured_traceback\n",
            "    formatted_exceptions += self.format_exception_as_a_whole(etype, evalue, etb, lines_of_context,\n",
            "  File \"/usr/local/lib/python3.10/dist-packages/IPython/core/ultratb.py\", line 1082, in format_exception_as_a_whole\n",
            "    last_unique, recursion_repeat = find_recursion(orig_etype, evalue, records)\n",
            "  File \"/usr/local/lib/python3.10/dist-packages/IPython/core/ultratb.py\", line 382, in find_recursion\n",
            "    return len(records), 0\n",
            "TypeError: object of type 'NoneType' has no len()\n",
            "\n",
            "During handling of the above exception, another exception occurred:\n",
            "\n",
            "Traceback (most recent call last):\n",
            "  File \"/usr/local/lib/python3.10/dist-packages/IPython/core/interactiveshell.py\", line 2099, in showtraceback\n",
            "    stb = value._render_traceback_()\n",
            "AttributeError: 'TypeError' object has no attribute '_render_traceback_'\n",
            "\n",
            "During handling of the above exception, another exception occurred:\n",
            "\n",
            "Traceback (most recent call last):\n",
            "  File \"/usr/local/lib/python3.10/dist-packages/IPython/core/ultratb.py\", line 1101, in get_records\n",
            "    return _fixed_getinnerframes(etb, number_of_lines_of_context, tb_offset)\n",
            "  File \"/usr/local/lib/python3.10/dist-packages/IPython/core/ultratb.py\", line 248, in wrapped\n",
            "    return f(*args, **kwargs)\n",
            "  File \"/usr/local/lib/python3.10/dist-packages/IPython/core/ultratb.py\", line 281, in _fixed_getinnerframes\n",
            "    records = fix_frame_records_filenames(inspect.getinnerframes(etb, context))\n",
            "  File \"/usr/lib/python3.10/inspect.py\", line 1662, in getinnerframes\n",
            "    frameinfo = (tb.tb_frame,) + getframeinfo(tb, context)\n",
            "  File \"/usr/lib/python3.10/inspect.py\", line 1620, in getframeinfo\n",
            "    filename = getsourcefile(frame) or getfile(frame)\n",
            "  File \"/usr/lib/python3.10/inspect.py\", line 829, in getsourcefile\n",
            "    module = getmodule(object, filename)\n",
            "  File \"/usr/lib/python3.10/inspect.py\", line 861, in getmodule\n",
            "    file = getabsfile(object, _filename)\n",
            "  File \"/usr/lib/python3.10/inspect.py\", line 845, in getabsfile\n",
            "    return os.path.normcase(os.path.abspath(_filename))\n",
            "  File \"/usr/lib/python3.10/posixpath.py\", line 384, in abspath\n",
            "    cwd = os.getcwd()\n",
            "OSError: [Errno 107] Transport endpoint is not connected\n"
          ]
        }
      ]
    },
    {
      "cell_type": "code",
      "source": [
        "loaders_ddd()"
      ],
      "metadata": {
        "colab": {
          "base_uri": "https://localhost:8080/"
        },
        "id": "QS9wet3a_I8G",
        "outputId": "ed4b5050-34a4-4fdd-fd11-e16b6d9cab90"
      },
      "execution_count": 15,
      "outputs": [
        {
          "output_type": "stream",
          "name": "stdout",
          "text": [
            "datafiles to read:  {'train': './data/12000_train_mnistmnistmsvhnsynusps.npz', 'test': './data/12000_test_mnistmnistmsvhnsynusps.npz'}\n",
            "reading ./data/12000_train_mnistmnistmsvhnsynusps.npz, number of samples: 60000\n",
            "reading ./data/12000_test_mnistmnistmsvhnsynusps.npz, number of samples: 21600\n",
            "reading ./data/12000_test_mnistmnistmsvhnsynusps.npz, number of samples: 21600\n"
          ]
        },
        {
          "output_type": "stream",
          "name": "stderr",
          "text": [
            "100%|██████████| 10/10 [05:31<00:00, 33.16s/it]"
          ]
        },
        {
          "output_type": "stream",
          "name": "stdout",
          "text": [
            "train loss: \n",
            "nan\n",
            "test loss: \n",
            "nan\n"
          ]
        },
        {
          "output_type": "stream",
          "name": "stderr",
          "text": [
            "\n"
          ]
        }
      ]
    }
  ]
}